{
 "cells": [
  {
   "cell_type": "markdown",
   "id": "131555b6",
   "metadata": {},
   "source": [
    "## This covers loading data such as images into Torch"
   ]
  },
  {
   "cell_type": "code",
   "execution_count": 16,
   "id": "87b63eb4",
   "metadata": {},
   "outputs": [],
   "source": [
    "import torch\n",
    "import numpy as np\n",
    "import os\n",
    "import imageio.v2 as imageio\n",
    "import csv"
   ]
  },
  {
   "cell_type": "code",
   "execution_count": 9,
   "id": "66454e54",
   "metadata": {},
   "outputs": [],
   "source": [
    "img_arr = imageio.imread('data/data1/bobby.jpg')"
   ]
  },
  {
   "cell_type": "code",
   "execution_count": 10,
   "id": "41add24e",
   "metadata": {},
   "outputs": [
    {
     "name": "stdout",
     "output_type": "stream",
     "text": [
      "(976, 1334, 3)\n"
     ]
    }
   ],
   "source": [
    "print(img_arr.shape)"
   ]
  },
  {
   "cell_type": "markdown",
   "id": "0f54b6a5",
   "metadata": {},
   "source": [
    "### PyTorch requires images of Shape (channel, height, width)"
   ]
  },
  {
   "cell_type": "code",
   "execution_count": 13,
   "id": "404eae67",
   "metadata": {},
   "outputs": [
    {
     "name": "stdout",
     "output_type": "stream",
     "text": [
      "torch.Size([3, 976, 1334])\n"
     ]
    }
   ],
   "source": [
    "img_tr = torch.from_numpy(img_arr)\n",
    "\n",
    "img_out = img_tr.permute(2, 0, 1)\n",
    "\n",
    "print(img_out.shape)"
   ]
  },
  {
   "cell_type": "markdown",
   "id": "f4500313",
   "metadata": {},
   "source": [
    "### Reading Images from the Folder"
   ]
  },
  {
   "cell_type": "code",
   "execution_count": 14,
   "id": "e2bf1df8",
   "metadata": {},
   "outputs": [
    {
     "name": "stdout",
     "output_type": "stream",
     "text": [
      "['cat1.png', 'cat2.png', 'cat3.png']\n"
     ]
    }
   ],
   "source": [
    "data_dir = 'data/data1/image-cats/'\n",
    "\n",
    "filenames = [name for name in os.listdir(data_dir)]\n",
    "\n",
    "print(filenames)"
   ]
  },
  {
   "cell_type": "code",
   "execution_count": 15,
   "id": "6921a32f",
   "metadata": {},
   "outputs": [
    {
     "name": "stdout",
     "output_type": "stream",
     "text": [
      "torch.Size([3, 256, 256])\n",
      "torch.Size([3, 256, 256])\n",
      "torch.Size([3, 256, 256])\n"
     ]
    }
   ],
   "source": [
    "for i, filename in enumerate(filenames):\n",
    "    \n",
    "    img_arr = imageio.imread( os.path.join(data_dir, filename) )\n",
    "    img_tr = torch.from_numpy(img_arr)\n",
    "    img_t = img_tr.permute(2, 0, 1)\n",
    "    \n",
    "    print(img_t.shape)\n",
    "    "
   ]
  },
  {
   "cell_type": "markdown",
   "id": "36c8b95a",
   "metadata": {},
   "source": [
    "### Read Tabular Data"
   ]
  },
  {
   "cell_type": "code",
   "execution_count": 22,
   "id": "7cd46472",
   "metadata": {},
   "outputs": [
    {
     "name": "stdout",
     "output_type": "stream",
     "text": [
      "[[ 7.    0.27  0.36 ...  0.45  8.8   6.  ]\n",
      " [ 6.3   0.3   0.34 ...  0.49  9.5   6.  ]\n",
      " [ 8.1   0.28  0.4  ...  0.44 10.1   6.  ]\n",
      " ...\n",
      " [ 6.5   0.24  0.19 ...  0.46  9.4   6.  ]\n",
      " [ 5.5   0.29  0.3  ...  0.38 12.8   7.  ]\n",
      " [ 6.    0.21  0.38 ...  0.32 11.8   6.  ]]\n",
      "(4898, 12)\n"
     ]
    }
   ],
   "source": [
    "wine_path = 'data/data1/winequality-white.csv'\n",
    "\n",
    "wineq_np = np.loadtxt(wine_path, dtype = np.float32, delimiter = ';', skiprows = 1)\n",
    "\n",
    "print(wineq_np)\n",
    "print(wineq_np.shape)\n",
    "\n",
    "wineq_tr = torch.from_numpy(  wineq_np  )"
   ]
  },
  {
   "cell_type": "code",
   "execution_count": 23,
   "id": "b238f2ae",
   "metadata": {},
   "outputs": [
    {
     "name": "stdout",
     "output_type": "stream",
     "text": [
      "torch.Size([4898, 11])\n",
      "torch.Size([4898])\n"
     ]
    }
   ],
   "source": [
    "X = wineq_tr[:, :-1]\n",
    "Y = wineq_tr[:, -1]\n",
    "\n",
    "print(X.shape)\n",
    "print(Y.shape)"
   ]
  },
  {
   "cell_type": "code",
   "execution_count": 25,
   "id": "516b0d3e",
   "metadata": {},
   "outputs": [
    {
     "name": "stdout",
     "output_type": "stream",
     "text": [
      "torch.Size([4898, 1, 1])\n"
     ]
    }
   ],
   "source": [
    "Y = Y[..., None]\n",
    "print(Y.shape)"
   ]
  },
  {
   "cell_type": "code",
   "execution_count": null,
   "id": "20e59ae8",
   "metadata": {},
   "outputs": [],
   "source": []
  },
  {
   "cell_type": "code",
   "execution_count": null,
   "id": "a007bf52",
   "metadata": {},
   "outputs": [],
   "source": []
  }
 ],
 "metadata": {
  "kernelspec": {
   "display_name": "ITS5200",
   "language": "python",
   "name": "its5200"
  },
  "language_info": {
   "codemirror_mode": {
    "name": "ipython",
    "version": 3
   },
   "file_extension": ".py",
   "mimetype": "text/x-python",
   "name": "python",
   "nbconvert_exporter": "python",
   "pygments_lexer": "ipython3",
   "version": "3.8.13"
  }
 },
 "nbformat": 4,
 "nbformat_minor": 5
}
