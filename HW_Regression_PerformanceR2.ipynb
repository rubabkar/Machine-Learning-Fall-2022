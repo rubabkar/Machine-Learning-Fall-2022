{
 "cells": [
  {
   "cell_type": "markdown",
   "id": "835385e1",
   "metadata": {},
   "source": [
    "## This HW depicts various models and its R2 Score for the provided Dataset - Rubab Karim"
   ]
  },
  {
   "cell_type": "markdown",
   "id": "77bb749f",
   "metadata": {},
   "source": [
    "### Importing the Winequaity-red Dataset in order to conduct an analysis of the data"
   ]
  },
  {
   "cell_type": "code",
   "execution_count": 3,
   "id": "93e63f6c",
   "metadata": {},
   "outputs": [],
   "source": [
    "import torch\n",
    "import imageio\n",
    "import os\n",
    "\n",
    "import numpy as np\n",
    "import pandas as pd\n",
    "import seaborn as sns\n",
    "\n",
    "import matplotlib.pyplot as plt\n",
    "\n",
    "import torch.optim as optim\n",
    "import torch.nn as nn\n",
    "\n",
    "from torchvision import datasets\n",
    "from torchvision import transforms\n",
    "\n",
    "import sklearn\n",
    "from collections import Counter\n",
    "\n",
    "from sklearn.model_selection import train_test_split\n",
    "\n",
    "from sklearn.metrics import confusion_matrix\n",
    "from sklearn.metrics import precision_score\n",
    "from sklearn.metrics import recall_score, accuracy_score, f1_score\n",
    "\n",
    "\n",
    "from sklearn.preprocessing import LabelEncoder"
   ]
  },
  {
   "cell_type": "code",
   "execution_count": 4,
   "id": "9934eda7",
   "metadata": {},
   "outputs": [
    {
     "name": "stdout",
     "output_type": "stream",
     "text": [
      "(1599, 4)\n",
      "(1599,)\n"
     ]
    }
   ],
   "source": [
    "wineq = pd.read_csv('data/winequality-red.csv', header = None, skiprows = 0)\n",
    "\n",
    "X = wineq.loc[1:, :3].values\n",
    "X = X.astype(float)\n",
    "\n",
    "\n",
    "y = wineq.loc[1:,  4 ].values\n",
    "\n",
    "print(X.shape)\n",
    "print(y.shape)\n",
    "\n",
    "le = LabelEncoder()\n",
    "y = le.fit_transform(   y   )"
   ]
  },
  {
   "cell_type": "code",
   "execution_count": 5,
   "id": "5e7e22fa",
   "metadata": {},
   "outputs": [],
   "source": [
    "X_train, X_test, y_train, y_test = train_test_split(X, y, test_size = 0.3, random_state=42 )"
   ]
  },
  {
   "cell_type": "code",
   "execution_count": 6,
   "id": "95fde7d0",
   "metadata": {},
   "outputs": [
    {
     "name": "stdout",
     "output_type": "stream",
     "text": [
      "[ 77  45  70  41  40  46  52  56  21  29  70  41  27  40  45  30  52  55\n",
      "  43  53  49  43  11  27  45  33  29  52  51  67  41  49  39  17  37  35\n",
      "  34  29  34  22  26  47  22  46 100  37  38  22  10  41  80 148  63   7\n",
      "  42  58  37  46  34  44  47  48  51  37  47  46  38  57  15  43  29  50\n",
      "  43  41  34  40   7  51   7  29  77  37  26  45  50  29  47  34  38  23\n",
      "  52  31  12  38  37  37  36  21 106  39  29  46  79  23  27  37  47  65\n",
      "  14 131  23  55  24  85  27  37  18  65  45  31  30  59  49  40  32  39\n",
      "  23  44  56  40  43  86  40  48  41  43  34  43  44  49  38  41  19  39\n",
      " 100  52  26  80  60  44  40  25  56  45  43  34  46  22  41  47  18  29\n",
      "  56  74  32  39  28  32 108  56  41  41  25  42  13  45  42  46  74   3\n",
      "  21  20  58  45  13  83  23  35   4  42  78  52  55  45  53  20  37  36\n",
      "  48  37  30  99  25  49  37  34  39  23  19  56   9 109  40  33  10  56\n",
      "  34  34  59  54  60  23  21  48  24  37  36  24  36  44  68  47  61  49\n",
      "  58  37  39  50 124  29  33  47  28  47 145  46  32  47  41  43  55  38\n",
      "  53  40  49  51  26  27  85  11  54  30  46  92  28  26 116  66  58  85\n",
      "  39  48  42  39  39  47  46  31  33  29  31 115  31  41  78  22  33  41\n",
      "  59   4  30  39  38  44  62  31  44  67  28  32  69  42  36  47  60  39\n",
      "  58  36  19  38  48  51  49  34  17  86  56  81  63  41  49  29  81  51\n",
      "  36  62  40  45  58  67  20  38  44  60  45  16  34  45  33  63  35  55\n",
      "  12  39  48  74  34  62  44  30 105  31  54 121  54  55  67  55  42  44\n",
      "  59  37  15  47 149  43  39  38  47 107  43  41  44  19  41  22  26   5\n",
      "  50  34  41  31  51  51  28  58   7  41  37  35  33  40  53  49  55  24\n",
      "  70  37  42  50  46  61  54  39  41  83  60  74  73 144  41  70  34  55\n",
      "  16  72  73  35  32  19  21  49  37  64  43  38  37  43  23  41  15  46\n",
      "  49  54  23  65  33  60  39  12  68  42   3  25  45  67  55  61  47 147\n",
      "  84  86  42  47  53  28  37 127  24  62 143  20 141  29  48  34  44  39\n",
      "  53  28  42  31  16  27  30  25  33  40  70  66]\n",
      "[27 34 47 ... 40 17 26]\n",
      "[[ 8.6   0.22  0.36  1.9 ]\n",
      " [12.5   0.46  0.63  2.  ]\n",
      " [ 7.2   0.54  0.27  2.6 ]\n",
      " ...\n",
      " [ 7.2   0.62  0.06  2.7 ]\n",
      " [ 7.9   0.2   0.35  1.7 ]\n",
      " [ 5.8   0.29  0.26  1.7 ]]\n",
      "[[ 7.7   0.56  0.08  2.5 ]\n",
      " [ 7.8   0.5   0.17  1.6 ]\n",
      " [10.7   0.67  0.22  2.7 ]\n",
      " ...\n",
      " [ 6.7   0.46  0.24  1.7 ]\n",
      " [10.5   0.51  0.64  2.4 ]\n",
      " [ 9.9   0.5   0.24  2.3 ]]\n"
     ]
    }
   ],
   "source": [
    "print(y_test)\n",
    "print(y_train)\n",
    "print(  X_train   )\n",
    "print(  X_test    )"
   ]
  },
  {
   "cell_type": "code",
   "execution_count": 7,
   "id": "040cbc9a",
   "metadata": {},
   "outputs": [],
   "source": [
    "def accuracy(y_pred, y_test):\n",
    "    accuracy_value = np.sum(y_pred == y_test) / len(y_test)\n",
    "    return accuracy_value"
   ]
  },
  {
   "cell_type": "code",
   "execution_count": 8,
   "id": "32d30564",
   "metadata": {},
   "outputs": [],
   "source": [
    "def print_stats_percentage_train_test(algorithm_name, y_test, y_pred):    \n",
    "     print(\"------------------------------------------------------\")\n",
    "     print(\"------------------------------------------------------\")\n",
    "    \n",
    "     print(\"algorithm is: \", algorithm_name)\n",
    "        \n",
    "     print('Accuracy: %.2f' % accuracy_score(y_test,   y_pred) )\n",
    "     \n",
    "     confmat = confusion_matrix(y_true=y_test, y_pred=y_pred)\n",
    "     print(\"confusion matrix\")\n",
    "     print(confmat)\n",
    "     print('Precision: %.3f' % precision_score(y_true=y_test, y_pred=y_pred, average='weighted'))\n",
    "     print('Recall: %.3f' % recall_score(y_true=y_test, y_pred=y_pred, average='weighted'))\n",
    "     print('F1-measure: %.3f' % f1_score(y_true=y_test, y_pred=y_pred, average='weighted'))"
   ]
  },
  {
   "cell_type": "markdown",
   "id": "c682b536",
   "metadata": {},
   "source": [
    "## After pre-processing, we split the dataset"
   ]
  },
  {
   "cell_type": "markdown",
   "id": "e1f951ac",
   "metadata": {},
   "source": [
    "#### a) Linear Regression Model"
   ]
  },
  {
   "cell_type": "code",
   "execution_count": null,
   "id": "1405800c",
   "metadata": {},
   "outputs": [],
   "source": [
    "def model_fn_linear():\n",
    "    return nn.Linear(1, 1)"
   ]
  },
  {
   "cell_type": "markdown",
   "id": "32dc5638",
   "metadata": {},
   "source": [
    "#### b) Multi-Layer Perceptron"
   ]
  },
  {
   "cell_type": "code",
   "execution_count": null,
   "id": "a88dade5",
   "metadata": {},
   "outputs": [],
   "source": [
    "def model_fn_nn_1hidden():\n",
    "    \n",
    "    model_mlp = nn.Sequential(\n",
    "        nn.Linear(1599, 599),\n",
    "        nn.ReLU(),\n",
    "        \n",
    "        nn.Linear(599, 2),\n",
    "    \n",
    "    )\n",
    "    \n",
    "#optimizer = optim.SGD(\n",
    "#   model_fn_nn_1hidden.parameters(),\n",
    "#  lr=1e-3  )\n",
    "    \n",
    "    return model_mlp"
   ]
  },
  {
   "cell_type": "markdown",
   "id": "5199a226",
   "metadata": {},
   "source": [
    "#### c) Deep Neural Network with 2 hidden layers"
   ]
  },
  {
   "cell_type": "code",
   "execution_count": null,
   "id": "ee1c4888",
   "metadata": {},
   "outputs": [],
   "source": [
    "def model_deep_learning_2hidden():\n",
    "    seq_model = nn.Sequential(\n",
    "        nn.Linear(1599, 599),\n",
    "        nn.ReLU(),\n",
    "        \n",
    "        nn.Linear(599, 99),\n",
    "        nn.Tanh(),\n",
    "        \n",
    "        nn.Linear(99, 1)\n",
    "    )\n",
    "    \n",
    "    return seq_model"
   ]
  },
  {
   "cell_type": "markdown",
   "id": "c501e49d",
   "metadata": {},
   "source": [
    "#### d) Deep Neural Network with 4 hidden layers"
   ]
  },
  {
   "cell_type": "code",
   "execution_count": null,
   "id": "b4c046dc",
   "metadata": {},
   "outputs": [],
   "source": [
    "def model_deep_learning_4hidden():\n",
    "    seq_model = nn.Sequential(\n",
    "        nn.Linear(1599, 1099),\n",
    "        nn.ReLU(),\n",
    "        \n",
    "        nn.Linear(1099, 599),\n",
    "        nn.Tanh(),\n",
    "        \n",
    "        nn.Linear(599, 199),\n",
    "        nn.Tanh(),\n",
    "        \n",
    "        nn.Linear(199, 99),\n",
    "        nn.Tanh(),\n",
    "        \n",
    "        nn.Linear(99, 1)\n",
    "    )\n",
    "    \n",
    "    return seq_model"
   ]
  },
  {
   "cell_type": "code",
   "execution_count": null,
   "id": "da87a8f2",
   "metadata": {},
   "outputs": [],
   "source": [
    "#model = model_fn_linear()\n",
    "\n",
    "model = model_fn_nn_1hidden()\n",
    "\n",
    "#model = model_deep_learning_2hidden()\n",
    "\n",
    "#model = model_deep_learning_4hidden()\n",
    "\n",
    "optimizer = optim.Adam(model.parameters(), lr = 0.001)\n",
    "\n",
    "loss_fn = nn.MSELoss()"
   ]
  },
  {
   "cell_type": "code",
   "execution_count": 11,
   "id": "915ec236",
   "metadata": {},
   "outputs": [
    {
     "name": "stdout",
     "output_type": "stream",
     "text": [
      "------------------------------------------------------\n",
      "------------------------------------------------------\n",
      "algorithm is:  knn\n"
     ]
    },
    {
     "ename": "ValueError",
     "evalue": "Found input variables with inconsistent numbers of samples: [480, 1599]",
     "output_type": "error",
     "traceback": [
      "\u001b[0;31m---------------------------------------------------------------------------\u001b[0m",
      "\u001b[0;31mValueError\u001b[0m                                Traceback (most recent call last)",
      "Input \u001b[0;32mIn [11]\u001b[0m, in \u001b[0;36m<cell line: 1>\u001b[0;34m()\u001b[0m\n\u001b[0;32m----> 1\u001b[0m res \u001b[38;5;241m=\u001b[39m \u001b[43mprint_stats_percentage_train_test\u001b[49m\u001b[43m(\u001b[49m\u001b[38;5;124;43m'\u001b[39;49m\u001b[38;5;124;43mknn\u001b[39;49m\u001b[38;5;124;43m'\u001b[39;49m\u001b[43m,\u001b[49m\u001b[43m \u001b[49m\u001b[43my_test\u001b[49m\u001b[43m,\u001b[49m\u001b[43m \u001b[49m\u001b[43mX\u001b[49m\u001b[43m)\u001b[49m\n\u001b[1;32m      3\u001b[0m \u001b[38;5;28mprint\u001b[39m(    res   )\n",
      "Input \u001b[0;32mIn [8]\u001b[0m, in \u001b[0;36mprint_stats_percentage_train_test\u001b[0;34m(algorithm_name, y_test, y_pred)\u001b[0m\n\u001b[1;32m      3\u001b[0m \u001b[38;5;28mprint\u001b[39m(\u001b[38;5;124m\"\u001b[39m\u001b[38;5;124m------------------------------------------------------\u001b[39m\u001b[38;5;124m\"\u001b[39m)\n\u001b[1;32m      5\u001b[0m \u001b[38;5;28mprint\u001b[39m(\u001b[38;5;124m\"\u001b[39m\u001b[38;5;124malgorithm is: \u001b[39m\u001b[38;5;124m\"\u001b[39m, algorithm_name)\n\u001b[0;32m----> 7\u001b[0m \u001b[38;5;28mprint\u001b[39m(\u001b[38;5;124m'\u001b[39m\u001b[38;5;124mAccuracy: \u001b[39m\u001b[38;5;132;01m%.2f\u001b[39;00m\u001b[38;5;124m'\u001b[39m \u001b[38;5;241m%\u001b[39m \u001b[43maccuracy_score\u001b[49m\u001b[43m(\u001b[49m\u001b[43my_test\u001b[49m\u001b[43m,\u001b[49m\u001b[43m   \u001b[49m\u001b[43my_pred\u001b[49m\u001b[43m)\u001b[49m )\n\u001b[1;32m      9\u001b[0m confmat \u001b[38;5;241m=\u001b[39m confusion_matrix(y_true\u001b[38;5;241m=\u001b[39my_test, y_pred\u001b[38;5;241m=\u001b[39my_pred)\n\u001b[1;32m     10\u001b[0m \u001b[38;5;28mprint\u001b[39m(\u001b[38;5;124m\"\u001b[39m\u001b[38;5;124mconfusion matrix\u001b[39m\u001b[38;5;124m\"\u001b[39m)\n",
      "File \u001b[0;32m/opt/miniconda3/envs/ITS5200/lib/python3.8/site-packages/sklearn/metrics/_classification.py:211\u001b[0m, in \u001b[0;36maccuracy_score\u001b[0;34m(y_true, y_pred, normalize, sample_weight)\u001b[0m\n\u001b[1;32m    145\u001b[0m \u001b[38;5;124;03m\"\"\"Accuracy classification score.\u001b[39;00m\n\u001b[1;32m    146\u001b[0m \n\u001b[1;32m    147\u001b[0m \u001b[38;5;124;03mIn multilabel classification, this function computes subset accuracy:\u001b[39;00m\n\u001b[0;32m   (...)\u001b[0m\n\u001b[1;32m    207\u001b[0m \u001b[38;5;124;03m0.5\u001b[39;00m\n\u001b[1;32m    208\u001b[0m \u001b[38;5;124;03m\"\"\"\u001b[39;00m\n\u001b[1;32m    210\u001b[0m \u001b[38;5;66;03m# Compute accuracy for each possible representation\u001b[39;00m\n\u001b[0;32m--> 211\u001b[0m y_type, y_true, y_pred \u001b[38;5;241m=\u001b[39m \u001b[43m_check_targets\u001b[49m\u001b[43m(\u001b[49m\u001b[43my_true\u001b[49m\u001b[43m,\u001b[49m\u001b[43m \u001b[49m\u001b[43my_pred\u001b[49m\u001b[43m)\u001b[49m\n\u001b[1;32m    212\u001b[0m check_consistent_length(y_true, y_pred, sample_weight)\n\u001b[1;32m    213\u001b[0m \u001b[38;5;28;01mif\u001b[39;00m y_type\u001b[38;5;241m.\u001b[39mstartswith(\u001b[38;5;124m\"\u001b[39m\u001b[38;5;124mmultilabel\u001b[39m\u001b[38;5;124m\"\u001b[39m):\n",
      "File \u001b[0;32m/opt/miniconda3/envs/ITS5200/lib/python3.8/site-packages/sklearn/metrics/_classification.py:84\u001b[0m, in \u001b[0;36m_check_targets\u001b[0;34m(y_true, y_pred)\u001b[0m\n\u001b[1;32m     57\u001b[0m \u001b[38;5;28;01mdef\u001b[39;00m \u001b[38;5;21m_check_targets\u001b[39m(y_true, y_pred):\n\u001b[1;32m     58\u001b[0m     \u001b[38;5;124;03m\"\"\"Check that y_true and y_pred belong to the same classification task.\u001b[39;00m\n\u001b[1;32m     59\u001b[0m \n\u001b[1;32m     60\u001b[0m \u001b[38;5;124;03m    This converts multiclass or binary types to a common shape, and raises a\u001b[39;00m\n\u001b[0;32m   (...)\u001b[0m\n\u001b[1;32m     82\u001b[0m \u001b[38;5;124;03m    y_pred : array or indicator matrix\u001b[39;00m\n\u001b[1;32m     83\u001b[0m \u001b[38;5;124;03m    \"\"\"\u001b[39;00m\n\u001b[0;32m---> 84\u001b[0m     \u001b[43mcheck_consistent_length\u001b[49m\u001b[43m(\u001b[49m\u001b[43my_true\u001b[49m\u001b[43m,\u001b[49m\u001b[43m \u001b[49m\u001b[43my_pred\u001b[49m\u001b[43m)\u001b[49m\n\u001b[1;32m     85\u001b[0m     type_true \u001b[38;5;241m=\u001b[39m type_of_target(y_true, input_name\u001b[38;5;241m=\u001b[39m\u001b[38;5;124m\"\u001b[39m\u001b[38;5;124my_true\u001b[39m\u001b[38;5;124m\"\u001b[39m)\n\u001b[1;32m     86\u001b[0m     type_pred \u001b[38;5;241m=\u001b[39m type_of_target(y_pred, input_name\u001b[38;5;241m=\u001b[39m\u001b[38;5;124m\"\u001b[39m\u001b[38;5;124my_pred\u001b[39m\u001b[38;5;124m\"\u001b[39m)\n",
      "File \u001b[0;32m/opt/miniconda3/envs/ITS5200/lib/python3.8/site-packages/sklearn/utils/validation.py:387\u001b[0m, in \u001b[0;36mcheck_consistent_length\u001b[0;34m(*arrays)\u001b[0m\n\u001b[1;32m    385\u001b[0m uniques \u001b[38;5;241m=\u001b[39m np\u001b[38;5;241m.\u001b[39munique(lengths)\n\u001b[1;32m    386\u001b[0m \u001b[38;5;28;01mif\u001b[39;00m \u001b[38;5;28mlen\u001b[39m(uniques) \u001b[38;5;241m>\u001b[39m \u001b[38;5;241m1\u001b[39m:\n\u001b[0;32m--> 387\u001b[0m     \u001b[38;5;28;01mraise\u001b[39;00m \u001b[38;5;167;01mValueError\u001b[39;00m(\n\u001b[1;32m    388\u001b[0m         \u001b[38;5;124m\"\u001b[39m\u001b[38;5;124mFound input variables with inconsistent numbers of samples: \u001b[39m\u001b[38;5;132;01m%r\u001b[39;00m\u001b[38;5;124m\"\u001b[39m\n\u001b[1;32m    389\u001b[0m         \u001b[38;5;241m%\u001b[39m [\u001b[38;5;28mint\u001b[39m(l) \u001b[38;5;28;01mfor\u001b[39;00m l \u001b[38;5;129;01min\u001b[39;00m lengths]\n\u001b[1;32m    390\u001b[0m     )\n",
      "\u001b[0;31mValueError\u001b[0m: Found input variables with inconsistent numbers of samples: [480, 1599]"
     ]
    }
   ],
   "source": [
    "res = print_stats_percentage_train_test('knn', y_test, X)\n",
    "\n",
    "print(    res   )"
   ]
  },
  {
   "cell_type": "code",
   "execution_count": null,
   "id": "e263ae70",
   "metadata": {},
   "outputs": [],
   "source": []
  }
 ],
 "metadata": {
  "kernelspec": {
   "display_name": "ITS5200",
   "language": "python",
   "name": "its5200"
  },
  "language_info": {
   "codemirror_mode": {
    "name": "ipython",
    "version": 3
   },
   "file_extension": ".py",
   "mimetype": "text/x-python",
   "name": "python",
   "nbconvert_exporter": "python",
   "pygments_lexer": "ipython3",
   "version": "3.8.13"
  }
 },
 "nbformat": 4,
 "nbformat_minor": 5
}
