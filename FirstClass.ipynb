{
 "cells": [
  {
   "cell_type": "markdown",
   "id": "4c0cd756",
   "metadata": {},
   "source": [
    "## The code below is just a simple Numpy example!!"
   ]
  },
  {
   "cell_type": "code",
   "execution_count": 1,
   "id": "13bcedc7",
   "metadata": {},
   "outputs": [
    {
     "name": "stdout",
     "output_type": "stream",
     "text": [
      "[4 5 2 6 8]\n"
     ]
    }
   ],
   "source": [
    "import numpy as np\n",
    "import torch\n",
    "import matplotlib.pyplot as plt\n",
    "\n",
    "a = np.array([4,5,2,6,8])\n",
    "print(a)\n"
   ]
  },
  {
   "cell_type": "code",
   "execution_count": 2,
   "id": "a6e7e83d",
   "metadata": {},
   "outputs": [
    {
     "name": "stdout",
     "output_type": "stream",
     "text": [
      "(5,)\n"
     ]
    }
   ],
   "source": [
    "print(a.shape)"
   ]
  },
  {
   "cell_type": "code",
   "execution_count": 3,
   "id": "fe095074",
   "metadata": {},
   "outputs": [
    {
     "name": "stdout",
     "output_type": "stream",
     "text": [
      "[1. 3. 2. 5.]\n"
     ]
    }
   ],
   "source": [
    "b = np.array( [1, 3, 2, 5] , dtype = 'float32' )\n",
    "print(b)"
   ]
  },
  {
   "cell_type": "code",
   "execution_count": 4,
   "id": "aaa3d94a",
   "metadata": {},
   "outputs": [
    {
     "name": "stdout",
     "output_type": "stream",
     "text": [
      "[list([1, 2, 3]) list([4, 5, 6]) list([8, 9])]\n"
     ]
    },
    {
     "name": "stderr",
     "output_type": "stream",
     "text": [
      "/var/folders/8m/t1ypl3vx3rs4dtb8n3hfbzlr0000gn/T/ipykernel_3209/3441597780.py:3: VisibleDeprecationWarning: Creating an ndarray from ragged nested sequences (which is a list-or-tuple of lists-or-tuples-or ndarrays with different lengths or shapes) is deprecated. If you meant to do this, you must specify 'dtype=object' when creating the ndarray.\n",
      "  c = np.array(list_of_lists)\n"
     ]
    }
   ],
   "source": [
    "list_of_lists = [ [1, 2, 3], [4, 5, 6], [8, 9] ]\n",
    "\n",
    "c = np.array(list_of_lists)\n",
    "\n",
    "print(c)\n",
    "\n"
   ]
  },
  {
   "cell_type": "code",
   "execution_count": 5,
   "id": "d0d2c355",
   "metadata": {},
   "outputs": [
    {
     "name": "stdout",
     "output_type": "stream",
     "text": [
      "[[ 1  2  3]\n",
      " [ 4  5  6]\n",
      " [ 8  9 10]]\n"
     ]
    }
   ],
   "source": [
    "list_of_lists = [ [1, 2, 3], [4, 5, 6], [8, 9, 10] ]\n",
    "\n",
    "c = np.array(list_of_lists)\n",
    "\n",
    "print(c)\n"
   ]
  },
  {
   "cell_type": "code",
   "execution_count": 6,
   "id": "0f44205d",
   "metadata": {},
   "outputs": [
    {
     "name": "stdout",
     "output_type": "stream",
     "text": [
      "(3, 3)\n"
     ]
    }
   ],
   "source": [
    "print(c.shape)"
   ]
  },
  {
   "cell_type": "code",
   "execution_count": 7,
   "id": "cbef87b2",
   "metadata": {},
   "outputs": [
    {
     "name": "stdout",
     "output_type": "stream",
     "text": [
      "[0 0 0 0 0 0 0 0 0 0]\n"
     ]
    }
   ],
   "source": [
    "d = np.zeros(10, dtype = 'int')\n",
    "print(d)"
   ]
  },
  {
   "cell_type": "code",
   "execution_count": 8,
   "id": "f7c7bea4",
   "metadata": {},
   "outputs": [
    {
     "name": "stdout",
     "output_type": "stream",
     "text": [
      "[[1. 1. 1. 1. 1. 1.]\n",
      " [1. 1. 1. 1. 1. 1.]\n",
      " [1. 1. 1. 1. 1. 1.]\n",
      " [1. 1. 1. 1. 1. 1.]]\n"
     ]
    }
   ],
   "source": [
    "e = np.ones((4, 6), dtype = 'float')\n",
    "print(e)"
   ]
  },
  {
   "cell_type": "code",
   "execution_count": 9,
   "id": "efc30d5d",
   "metadata": {},
   "outputs": [
    {
     "name": "stdout",
     "output_type": "stream",
     "text": [
      "[[55 55 55 55]\n",
      " [55 55 55 55]]\n"
     ]
    }
   ],
   "source": [
    "a = np.full((2, 4), 55)\n",
    "print(a)"
   ]
  },
  {
   "cell_type": "markdown",
   "id": "230d8e02",
   "metadata": {},
   "source": [
    "### I added a data type to the code below, to check the variable output. "
   ]
  },
  {
   "cell_type": "code",
   "execution_count": 10,
   "id": "a95c1fbe",
   "metadata": {},
   "outputs": [
    {
     "name": "stdout",
     "output_type": "stream",
     "text": [
      "[ 1. 16. 31. 46.]\n"
     ]
    }
   ],
   "source": [
    "b = np.arange(1, 50, 15, dtype = 'float32')\n",
    "print(b)"
   ]
  },
  {
   "cell_type": "code",
   "execution_count": 11,
   "id": "ab34b8ff",
   "metadata": {},
   "outputs": [
    {
     "name": "stdout",
     "output_type": "stream",
     "text": [
      "[0.         0.07142857 0.14285714 0.21428571 0.28571429 0.35714286\n",
      " 0.42857143 0.5        0.57142857 0.64285714 0.71428571 0.78571429\n",
      " 0.85714286 0.92857143 1.        ]\n"
     ]
    }
   ],
   "source": [
    "c = np.linspace(0, 1, 15)\n",
    "print(c)"
   ]
  },
  {
   "cell_type": "code",
   "execution_count": 12,
   "id": "1894b5b6",
   "metadata": {},
   "outputs": [
    {
     "name": "stdout",
     "output_type": "stream",
     "text": [
      "[[0.72173088 0.55415477]]\n"
     ]
    }
   ],
   "source": [
    "d = np.random.random((1, 2))\n",
    "print(d)"
   ]
  },
  {
   "cell_type": "code",
   "execution_count": 13,
   "id": "84996af5",
   "metadata": {},
   "outputs": [
    {
     "name": "stdout",
     "output_type": "stream",
     "text": [
      "[[ 0.23189598 -0.50944898 -0.71041152 -0.8235999 ]\n",
      " [-0.00672868  0.40135729 -0.6081101   2.13802704]\n",
      " [-0.2825352   0.11273807  1.69398267  0.09155797]]\n"
     ]
    }
   ],
   "source": [
    "e = np.random.normal(0, 1, (3, 4))\n",
    "print(e)"
   ]
  },
  {
   "cell_type": "code",
   "execution_count": 14,
   "id": "8f405a65",
   "metadata": {},
   "outputs": [
    {
     "name": "stdout",
     "output_type": "stream",
     "text": [
      "[[1. 0. 0. 0. 0.]\n",
      " [0. 1. 0. 0. 0.]\n",
      " [0. 0. 1. 0. 0.]\n",
      " [0. 0. 0. 1. 0.]\n",
      " [0. 0. 0. 0. 1.]]\n"
     ]
    }
   ],
   "source": [
    "a = np.eye(5)\n",
    "print(a)"
   ]
  },
  {
   "cell_type": "code",
   "execution_count": 15,
   "id": "ac4a783a",
   "metadata": {},
   "outputs": [
    {
     "name": "stdout",
     "output_type": "stream",
     "text": [
      "[[ 9 17 18 19]\n",
      " [19  9  5  0]\n",
      " [ 9  2  0  6]]\n",
      "[[[ 6 10 18  7 11  3]\n",
      "  [12 16 10 12  7 12]\n",
      "  [ 6  1 12 15 10 13]\n",
      "  [ 9 17 15 18  4 19]]\n",
      "\n",
      " [[17 13  3  4  2  2]\n",
      "  [19  1 11 14  3  8]\n",
      "  [ 0 12 14 12 10 18]\n",
      "  [14  0  6  7 14  4]]]\n",
      "b2 dims =  2\n",
      "b3 shape =  (2, 4, 6)\n",
      "b2 size =  12\n",
      "data type of b3 =  int64\n"
     ]
    }
   ],
   "source": [
    "b1 = np.random.randint(20, size = 5)\n",
    "b2 = np.random.randint(20, size = (3, 4))\n",
    "b3 = np.random.randint(20, size = (2, 4, 6))\n",
    "\n",
    "print(b2)\n",
    "print(b3)\n",
    "print(\"b2 dims = \", b2.ndim)\n",
    "print(\"b3 shape = \", b3.shape)\n",
    "print(\"b2 size = \", b2.size)\n",
    "print(\"data type of b3 = \", b3.dtype)"
   ]
  },
  {
   "cell_type": "code",
   "execution_count": 16,
   "id": "ed98ca7e",
   "metadata": {},
   "outputs": [
    {
     "name": "stdout",
     "output_type": "stream",
     "text": [
      "[1. 3. 2. 5.]\n",
      "first index =  1.0\n",
      "third index =  2.0\n",
      "last index =  5.0\n",
      "Before last =  2.0\n"
     ]
    }
   ],
   "source": [
    "a = np.array([1, 3, 2, 5], dtype = 'float32' )\n",
    "\n",
    "print(a)\n",
    "print(\"first index = \", a[0])\n",
    "print(\"third index = \", a[2])\n",
    "print(\"last index = \", a[-1])\n",
    "print(\"Before last = \", a[-2])"
   ]
  },
  {
   "cell_type": "code",
   "execution_count": 17,
   "id": "c70eec2c",
   "metadata": {},
   "outputs": [
    {
     "name": "stdout",
     "output_type": "stream",
     "text": [
      "[[ 1  2  3  4]\n",
      " [ 5  6  7  8]\n",
      " [ 9 10 11 12]]\n",
      "first index =  1\n",
      "last index =  12\n"
     ]
    }
   ],
   "source": [
    "a = np.array([[1, 2, 3, 4],\n",
    "              [5, 6, 7, 8],\n",
    "              [9, 10, 11, 12]] )\n",
    "print(a)\n",
    "\n",
    "print(\"first index = \", a[0, 0])\n",
    "print(\"last index = \", a[2, -1])\n"
   ]
  },
  {
   "cell_type": "code",
   "execution_count": 18,
   "id": "ee56e496",
   "metadata": {},
   "outputs": [
    {
     "name": "stdout",
     "output_type": "stream",
     "text": [
      "[ 0  1  2  3  4  5  6  7  8  9 10 11 12 13 14]\n",
      "first 4 elemets  [0 1 2 3]\n",
      "all after 3  [ 3  4  5  6  7  8  9 10 11 12 13 14]\n",
      "even indeces  [ 0  2  4  6  8 10 12 14]\n",
      "uneven indeces  [ 1  3  5  7  9 11 13]\n",
      "reverse  [14 13 12 11 10  9  8  7  6  5  4  3  2  1  0]\n"
     ]
    }
   ],
   "source": [
    "x = np.arange(15)\n",
    "print(x)\n",
    "print(\"first 4 elemets \", x[:4])\n",
    "print(\"all after 3 \", x[3:])\n",
    "print(\"even indeces \", x[::2] )    ## starts at 0; 2 is the size of the step\n",
    "print(\"uneven indeces \", x[1::2])    ## starts at 1\n",
    "print(\"reverse \", x[::-1]  )     ## step value is negative starts at last element\n"
   ]
  },
  {
   "cell_type": "code",
   "execution_count": 19,
   "id": "ed9aabf7",
   "metadata": {},
   "outputs": [
    {
     "name": "stdout",
     "output_type": "stream",
     "text": [
      "[[ 1  2  3  4]\n",
      " [ 5  6  7  8]\n",
      " [ 9 10 11 12]]\n",
      "[[1 2]\n",
      " [5 6]]\n"
     ]
    }
   ],
   "source": [
    "a = np.array([[1, 2, 3, 4],\n",
    "              [5, 6, 7, 8],\n",
    "              [9, 10, 11, 12]] )\n",
    "print(a)\n",
    "print(a[:2,:2])"
   ]
  },
  {
   "cell_type": "code",
   "execution_count": 20,
   "id": "0284ea80",
   "metadata": {},
   "outputs": [
    {
     "name": "stdout",
     "output_type": "stream",
     "text": [
      "[[ 1  2  3  4]\n",
      " [ 5  6  7  8]\n",
      " [ 9 10 11 12]]\n",
      "\n",
      "a[:-1, :-1]\n",
      "[[1 2 3]\n",
      " [5 6 7]]\n"
     ]
    }
   ],
   "source": [
    "a = np.array([[1, 2, 3, 4],\n",
    "              [5, 6, 7, 8],\n",
    "              [9, 10, 11, 12]])\n",
    "\n",
    "print(a)\n",
    "print() # just to create a visual seperation\n",
    "print(\"a[:-1, :-1]\")\n",
    "print(a[:-1, :-1])"
   ]
  },
  {
   "cell_type": "code",
   "execution_count": 21,
   "id": "4250b3ee",
   "metadata": {},
   "outputs": [
    {
     "name": "stdout",
     "output_type": "stream",
     "text": [
      "[[ 1  2  3  4]\n",
      " [ 5  6  7  8]\n",
      " [ 9 10 11 12]]\n",
      "\n",
      "a[:-1, :-2]\n",
      "[[1 2]\n",
      " [5 6]]\n"
     ]
    }
   ],
   "source": [
    "a = np.array([[1, 2, 3, 4],\n",
    "              [5, 6, 7, 8],\n",
    "              [9, 10, 11, 12]])\n",
    "\n",
    "print(a)\n",
    "print() # just to create a visual seperation\n",
    "print(\"a[:-1, :-2]\")\n",
    "print(a[:-1, :-2])"
   ]
  },
  {
   "cell_type": "code",
   "execution_count": 22,
   "id": "d5d2c727",
   "metadata": {},
   "outputs": [
    {
     "name": "stdout",
     "output_type": "stream",
     "text": [
      "[ 0  1  2  3  4  5  6  7  8  9 10 11 12 13 14]\n",
      "shift right  [ 0  1  2  3  4  5  6  7  8  9 10 11 12 13]\n",
      "shift left  [ 1  2  3  4  5  6  7  8  9 10 11 12 13 14]\n"
     ]
    }
   ],
   "source": [
    "x = np.arange(15)\n",
    "print(x)\n",
    "print(\"shift right \", x[:-1] )\n",
    "print(\"shift left \", x[1:] )"
   ]
  },
  {
   "cell_type": "code",
   "execution_count": 23,
   "id": "021cedb0",
   "metadata": {},
   "outputs": [
    {
     "name": "stdout",
     "output_type": "stream",
     "text": [
      "[[ 1  2  3  4]\n",
      " [ 5  6  7  8]\n",
      " [ 9 10 11 12]]\n",
      "\n",
      "column 1 \n",
      "[ 2  6 10]\n"
     ]
    }
   ],
   "source": [
    "a = np.array([[1, 2, 3, 4],\n",
    "              [5, 6, 7, 8],\n",
    "              [9, 10, 11, 12]] )\n",
    "print(a)\n",
    "print()\n",
    "print(\"column 1 \")\n",
    "print(a[:, 1])\n"
   ]
  },
  {
   "cell_type": "code",
   "execution_count": 24,
   "id": "cd108298",
   "metadata": {},
   "outputs": [
    {
     "name": "stdout",
     "output_type": "stream",
     "text": [
      "[[ 1  2  3  4]\n",
      " [ 5  6  7  8]\n",
      " [ 9 10 11 12]]\n",
      "\n",
      "row 1 \n",
      "[5 6 7 8]\n"
     ]
    }
   ],
   "source": [
    "a = np.array([[1, 2, 3, 4],\n",
    "              [5, 6, 7, 8],\n",
    "              [9, 10, 11, 12]] )\n",
    "print(a)\n",
    "print()\n",
    "print(\"row 1 \")\n",
    "print(a[1, :])"
   ]
  },
  {
   "cell_type": "code",
   "execution_count": 25,
   "id": "3b6c2662",
   "metadata": {},
   "outputs": [
    {
     "name": "stdout",
     "output_type": "stream",
     "text": [
      "[[ 1  2  3  4]\n",
      " [ 5  6  7  8]\n",
      " [ 9 10 11 12]]\n",
      "[[1 2]\n",
      " [5 6]]\n",
      "[[42  2  3  4]\n",
      " [ 5  6  7  8]\n",
      " [ 9 10 11 12]]\n",
      "[[42  2  3  4]\n",
      " [ 5  6  7  8]\n",
      " [ 9 10 11 12]]\n"
     ]
    }
   ],
   "source": [
    "a = np.array([[1, 2, 3, 4],\n",
    "              [5, 6, 7, 8],\n",
    "              [9, 10, 11, 12]] )\n",
    "new_a = a[:2, :2]\n",
    "print(a)\n",
    "print(new_a)\n",
    "new_a[0,0] = 42\n",
    "print(a)\n",
    "new_a2 = a[:2, :2].copy()\n",
    "new_a2[0,0] = 17\n",
    "print(a)"
   ]
  },
  {
   "cell_type": "code",
   "execution_count": 26,
   "id": "c94cc945",
   "metadata": {},
   "outputs": [
    {
     "name": "stdout",
     "output_type": "stream",
     "text": [
      "[1 2 3 4 5 6 7 8 9]\n",
      "[[1 2 3]\n",
      " [4 5 6]\n",
      " [7 8 9]]\n"
     ]
    }
   ],
   "source": [
    "a = np.arange(1, 10)\n",
    "b = a.reshape( (3,3)   )\n",
    "print(a)\n",
    "print(b)"
   ]
  },
  {
   "cell_type": "code",
   "execution_count": 27,
   "id": "eb18bba3",
   "metadata": {},
   "outputs": [
    {
     "name": "stdout",
     "output_type": "stream",
     "text": [
      "reshape as row vector with reshape  [[1 2 3 4 5]]\n",
      "reshape as row vector with newaxis  [[5 5 5 5 5]]\n",
      "reshape as column vector with newaxis \n",
      "[[5]\n",
      " [5]\n",
      " [5]\n",
      " [5]\n",
      " [5]]\n",
      " reshape matrix  m[:, np.newaxis, np.newaxis, :] with newaxis \n",
      "[[[[ 1  2  3  4]]]\n",
      "\n",
      "\n",
      " [[[ 5  6  7  8]]]\n",
      "\n",
      "\n",
      " [[[ 9 10 11 12]]]]\n"
     ]
    }
   ],
   "source": [
    "v = np.array(  [1, 2, 3, 4, 5]  )\n",
    "v1 = np.array(  [5, 5, 5, 5, 5]  )\n",
    "\n",
    "m = np.array([[1, 2, 3, 4],\n",
    "              [5, 6, 7, 8],\n",
    "              [9, 10, 11, 12]] )\n",
    "\n",
    "print(\"reshape as row vector with reshape \", v.reshape(  (1,5)  ))\n",
    "print(\"reshape as row vector with newaxis \",  v1[np.newaxis, :]   )\n",
    "print(\"reshape as column vector with newaxis \")\n",
    "print( v1[:, np.newaxis]   )\n",
    "print(\" reshape matrix  m[:, np.newaxis, np.newaxis, :] with newaxis \")\n",
    "print(  m[:, np.newaxis, np.newaxis, :]  )"
   ]
  },
  {
   "cell_type": "code",
   "execution_count": 28,
   "id": "103f8d04",
   "metadata": {},
   "outputs": [
    {
     "name": "stdout",
     "output_type": "stream",
     "text": [
      "[1 2 3 4]\n",
      "[5 6 7 8]\n",
      "[ 9 10 11]\n",
      "concatenate a with b  [1 2 3 4 5 6 7 8]\n",
      "concatenate a with b with c [ 1  2  3  4  5  6  7  8  9 10 11]\n"
     ]
    }
   ],
   "source": [
    "a = np.array([1,2,3,4])\n",
    "b = np.array([5,6,7,8])\n",
    "c = np.array([9,10,11])\n",
    "ab = np.concatenate(  [a, b]  )\n",
    "abc = np.concatenate(  [a, b, c]  )\n",
    "print(a)\n",
    "print(b)\n",
    "print(c)\n",
    "print(\"concatenate a with b \", ab)\n",
    "print(\"concatenate a with b with c\", abc)"
   ]
  },
  {
   "cell_type": "code",
   "execution_count": 29,
   "id": "7399c1d4",
   "metadata": {},
   "outputs": [
    {
     "name": "stdout",
     "output_type": "stream",
     "text": [
      "[[1 2 3]\n",
      " [4 5 6]\n",
      " [7 8 9]]\n",
      "[[10 11 12]\n",
      " [13 14 14]\n",
      " [16 17 18]]\n",
      "m1 m2 concat axis 0 \n",
      "[[ 1  2  3]\n",
      " [ 4  5  6]\n",
      " [ 7  8  9]\n",
      " [10 11 12]\n",
      " [13 14 14]\n",
      " [16 17 18]]\n"
     ]
    }
   ],
   "source": [
    "m1 = np.array([ [1,2,3],\n",
    "                [4,5,6],\n",
    "                [7,8,9]  ])\n",
    "                \n",
    "m2 = np.array([ [10,11,12],\n",
    "                [13,14,14],\n",
    "                [16,17,18]  ])\n",
    "                \n",
    "print(m1)\n",
    "print(m2)\n",
    "m1_m2_concat = np.concatenate([m1, m2], axis=0)\n",
    "print(\"m1 m2 concat axis 0 \")\n",
    "print(m1_m2_concat)\n",
    "\n"
   ]
  },
  {
   "cell_type": "code",
   "execution_count": 30,
   "id": "6253e00e",
   "metadata": {},
   "outputs": [
    {
     "name": "stdout",
     "output_type": "stream",
     "text": [
      "[[1 2 3]\n",
      " [4 5 6]\n",
      " [7 8 9]]\n",
      "[[10 11 12]\n",
      " [13 14 14]\n",
      " [16 17 18]]\n",
      "m1 m2 concat axis 1 \n",
      "[[ 1  2  3 10 11 12]\n",
      " [ 4  5  6 13 14 14]\n",
      " [ 7  8  9 16 17 18]]\n"
     ]
    }
   ],
   "source": [
    "m1 = np.array([ [1,2,3],\n",
    "                [4,5,6],\n",
    "                [7,8,9]  ])\n",
    "                \n",
    "m2 = np.array([ [10,11,12],\n",
    "                [13,14,14],\n",
    "                [16,17,18]  ])\n",
    "                \n",
    "print(m1)\n",
    "print(m2)\n",
    "m1_m2_concat = np.concatenate([m1, m2], axis=1)\n",
    "print(\"m1 m2 concat axis 1 \")\n",
    "print(m1_m2_concat)"
   ]
  },
  {
   "cell_type": "code",
   "execution_count": 33,
   "id": "1f5e8e5a",
   "metadata": {},
   "outputs": [
    {
     "name": "stdout",
     "output_type": "stream",
     "text": [
      "[[1 2 3]\n",
      " [4 5 6]\n",
      " [7 8 9]]\n",
      "[[10 11 12]\n",
      " [13 14 14]\n",
      " [16 17 18]]\n",
      "\n",
      " vstack \n",
      "[[ 1  2  3]\n",
      " [ 4  5  6]\n",
      " [ 7  8  9]\n",
      " [10 11 12]\n",
      " [13 14 14]\n",
      " [16 17 18]]\n",
      "\n",
      " hstack \n",
      "[[ 1  2  3 10 11 12]\n",
      " [ 4  5  6 13 14 14]\n",
      " [ 7  8  9 16 17 18]]\n"
     ]
    }
   ],
   "source": [
    "m1 = np.array([ [1,2,3],\n",
    "                [4,5,6],\n",
    "                [7,8,9]  ])\n",
    "                \n",
    "m2 = np.array([ [10,11,12],\n",
    "                [13,14,14],\n",
    "                [16,17,18]  ])\n",
    "                \n",
    "print(m1)\n",
    "print(m2)\n",
    "m1_m2_concat = np.vstack( [m1, m2]  )\n",
    "print()\n",
    "print(\" vstack \")\n",
    "print(m1_m2_concat)\n",
    "\n",
    "m1_m2_concat2 = np.hstack( [m1, m2]  )\n",
    "print()\n",
    "print(\" hstack \")\n",
    "print(m1_m2_concat2)"
   ]
  },
  {
   "cell_type": "code",
   "execution_count": 34,
   "id": "cc399b85",
   "metadata": {},
   "outputs": [
    {
     "name": "stdout",
     "output_type": "stream",
     "text": [
      "[1 2 3 4]\n",
      "x + 10  [11 12 13 14]\n",
      "x - 10  [-9 -8 -7 -6]\n",
      "x * 10  [10 20 30 40]\n",
      "x / 2  [0.5 1.  1.5 2. ]\n",
      "  -x  [-1 -2 -3 -4]\n",
      "x ** 3 [ 1  8 27 64]\n",
      "4^x [  4  16  64 256]\n",
      "  np.log(x)  [0.         0.69314718 1.09861229 1.38629436]\n",
      " np.log2(x) [0.        1.        1.5849625 2.       ]\n",
      "np.log10(x) [0.         0.30103    0.47712125 0.60205999]\n"
     ]
    }
   ],
   "source": [
    "x = np.array([1,2,3,4])\n",
    "\n",
    "print(x)\n",
    "print(\"x + 10 \", x + 10)\n",
    "print(\"x - 10 \", x - 10)\n",
    "print(\"x * 10 \", x * 10)\n",
    "print(\"x / 2 \", x / 2)\n",
    "print(\"  -x \", -x)\n",
    "print(\"x ** 3\", x ** 3)\n",
    "print(\"4^x\", np.power(4, x) )\n",
    "print(\"  np.log(x) \", np.log(x))\n",
    "print(\" np.log2(x)\", np.log2(x))\n",
    "print(\"np.log10(x)\", np.log10(x) )"
   ]
  },
  {
   "cell_type": "code",
   "execution_count": 35,
   "id": "16f5b1c7",
   "metadata": {},
   "outputs": [
    {
     "name": "stdout",
     "output_type": "stream",
     "text": [
      "[0.         0.44444444 0.88888889 1.33333333 1.77777778 2.22222222\n",
      " 2.66666667 3.11111111 3.55555556 4.        ]\n",
      "np.sin\n",
      "[ 0.          0.42995636  0.77637192  0.9719379   0.9786557   0.79522006\n",
      "  0.45727263  0.03047682 -0.40224065 -0.7568025 ]\n"
     ]
    }
   ],
   "source": [
    "angles = np.linspace(0, 4, 10)\n",
    "print(angles)\n",
    "print(\"np.sin\")\n",
    "print(np.sin(angles))"
   ]
  },
  {
   "cell_type": "code",
   "execution_count": 36,
   "id": "e56caa78",
   "metadata": {},
   "outputs": [
    {
     "name": "stdout",
     "output_type": "stream",
     "text": [
      "[1 2 3 4 5]\n",
      "  np.add.reduce(x)  =  15\n",
      "  np.multiply.reduce(x)  =  120\n",
      "  np.sum(x)  =  15\n",
      "  np.min(x)  =  1\n",
      "  np.max(x)  =  5\n"
     ]
    }
   ],
   "source": [
    "x = np.array( [1 , 2, 3, 4, 5]  )\n",
    "print(x)\n",
    "print(\"  np.add.reduce(x)  = \",  np.add.reduce(x)  )\n",
    "print(\"  np.multiply.reduce(x)  = \",  np.multiply.reduce(x)  )\n",
    "print(\"  np.sum(x)  = \",  np.sum(x)  )\n",
    "print(\"  np.min(x)  = \",  np.min(x)  )\n",
    "print(\"  np.max(x)  = \",  np.max(x)  )"
   ]
  },
  {
   "cell_type": "code",
   "execution_count": 37,
   "id": "9ccba522",
   "metadata": {},
   "outputs": [
    {
     "name": "stdout",
     "output_type": "stream",
     "text": [
      "[[ 1  2  3  4]\n",
      " [ 5  6  7  8]\n",
      " [ 9 10 11 12]\n",
      " [13 14 15 16]]\n",
      "  m.sum()   =  136\n",
      "  np.min(m, axis=0)  =  [1 2 3 4]\n",
      "  np.min(m, axis=1)  =  [ 1  5  9 13]\n",
      "  np.min(m, axis=-1)  (-1 is last item) =  [ 1  5  9 13]\n"
     ]
    }
   ],
   "source": [
    "m = np.array( [[1, 2, 3, 4],\n",
    "               [5, 6, 7, 8],\n",
    "               [9, 10, 11, 12],\n",
    "               [13, 14, 15, 16] ])\n",
    "\n",
    "print(m)\n",
    "\n",
    "print(\"  m.sum()   = \", m.sum()  )\n",
    "print(\"  np.min(m, axis=0)  = \", np.min(m, axis=0) )\n",
    "print(\"  np.min(m, axis=1)  = \", np.min(m, axis=1) )\n",
    "print(\"  np.min(m, axis=-1)  (-1 is last item) = \", np.min(m, axis=-1) )"
   ]
  },
  {
   "cell_type": "code",
   "execution_count": 38,
   "id": "2dbc625a",
   "metadata": {},
   "outputs": [
    {
     "name": "stdout",
     "output_type": "stream",
     "text": [
      " m \n",
      "[[1. 1. 1.]\n",
      " [1. 1. 1.]\n",
      " [1. 1. 1.]]\n",
      " a \n",
      "[0 1 2]\n",
      "m + a \n",
      "[[1. 2. 3.]\n",
      " [1. 2. 3.]\n",
      " [1. 2. 3.]]\n",
      "a[:, np.newaxis]\n",
      "[[0]\n",
      " [1]\n",
      " [2]]\n",
      "m + a \n",
      "[[1. 1. 1.]\n",
      " [2. 2. 2.]\n",
      " [3. 3. 3.]]\n"
     ]
    }
   ],
   "source": [
    "a = np.array(  [0, 1, 2]   )\n",
    "m = np.ones(   (3,3)    )\n",
    "ma = m + a\n",
    "print(\" m \")\n",
    "print(m)\n",
    "print(\" a \")\n",
    "print(a)\n",
    "print(\"m + a \")\n",
    "print(ma)\n",
    "a = a[:, np.newaxis]\n",
    "print(\"a[:, np.newaxis]\")\n",
    "print(a)\n",
    "print(\"m + a \")\n",
    "ma = m + a\n",
    "print(ma)"
   ]
  },
  {
   "cell_type": "code",
   "execution_count": 39,
   "id": "d861dc60",
   "metadata": {},
   "outputs": [
    {
     "name": "stdout",
     "output_type": "stream",
     "text": [
      "[1 1 1]\n",
      "[[0]\n",
      " [1]\n",
      " [2]]\n",
      "v1 + v2\n",
      "[[1 1 1]\n",
      " [2 2 2]\n",
      " [3 3 3]]\n",
      "v1 * v2\n",
      "[[0 0 0]\n",
      " [1 1 1]\n",
      " [2 2 2]]\n"
     ]
    }
   ],
   "source": [
    "v1 = np.array( [1, 1, 1] )\n",
    "v2 = np.array( [0, 1, 2] )[:, np.newaxis]\n",
    "\n",
    "print(v1)\n",
    "print(v2)\n",
    "\n",
    "vvplus = v1 + v2\n",
    "v1v2   = v1 * v2\n",
    "\n",
    "print(\"v1 + v2\")\n",
    "print(v1 + v2)\n",
    "print(\"v1 * v2\")\n",
    "print(v1 * v2)"
   ]
  },
  {
   "cell_type": "code",
   "execution_count": 40,
   "id": "7710087c",
   "metadata": {},
   "outputs": [
    {
     "name": "stdout",
     "output_type": "stream",
     "text": [
      "[[1]\n",
      " [1]\n",
      " [1]]\n",
      "[0 1 2]\n",
      "v1 + v2\n",
      "[[1 2 3]\n",
      " [1 2 3]\n",
      " [1 2 3]]\n",
      "v1 * v2\n",
      "[[0 1 2]\n",
      " [0 1 2]\n",
      " [0 1 2]]\n"
     ]
    }
   ],
   "source": [
    "v1 = np.array(  [1, 1, 1]   )[:, np.newaxis]\n",
    "v2 = np.array(  [0, 1, 2]   )\n",
    "\n",
    "print(v1)\n",
    "print(v2)\n",
    "\n",
    "vvplus = v1 + v2\n",
    "v1v2   = v1 * v2\n",
    "\n",
    "print(\"v1 + v2\")\n",
    "print(v1 + v2)\n",
    "print(\"v1 * v2\")\n",
    "print(v1 * v2)"
   ]
  },
  {
   "cell_type": "code",
   "execution_count": 41,
   "id": "00268713",
   "metadata": {},
   "outputs": [
    {
     "name": "stdout",
     "output_type": "stream",
     "text": [
      "[[ 1  2  3  4]\n",
      " [ 5  6  7  8]\n",
      " [ 9 10 11 12]\n",
      " [13 14 15 16]]\n",
      "m < 5\n",
      "[[ True  True  True  True]\n",
      " [False False False False]\n",
      " [False False False False]\n",
      " [False False False False]]\n",
      "m > 11\n",
      "[[False False False False]\n",
      " [False False False False]\n",
      " [False False False  True]\n",
      " [ True  True  True  True]]\n",
      "m == 14\n",
      "[[False False False False]\n",
      " [False False False False]\n",
      " [False False False False]\n",
      " [False  True False False]]\n",
      "np.equal(m, 13)\n",
      "[[False False False False]\n",
      " [False False False False]\n",
      " [False False False False]\n",
      " [ True False False False]]\n",
      "np.equal(m, 13)\n",
      "[[False False False False]\n",
      " [False False False False]\n",
      " [False False False False]\n",
      " [ True False False False]]\n",
      "np.sum(m < 12, axis=1)\n",
      "how many values less than 12 in each row?\n",
      "[[4]\n",
      " [4]\n",
      " [3]\n",
      " [0]]\n",
      "m[m < 8]\n",
      "[1 2 3 4 5 6 7]\n"
     ]
    }
   ],
   "source": [
    "m = np.array( [[1, 2, 3, 4],\n",
    "               [5, 6, 7, 8],\n",
    "               [9, 10, 11, 12],\n",
    "               [13, 14, 15, 16] ])\n",
    "\n",
    "print(m)\n",
    "\n",
    "\n",
    "print(\"m < 5\")\n",
    "print(m < 5)\n",
    "\n",
    "print(\"m > 11\")\n",
    "print(m > 11)\n",
    "\n",
    "print(\"m == 14\")\n",
    "print(m == 14)\n",
    "\n",
    "print(\"np.equal(m, 13)\")\n",
    "print(np.equal(m, 13))\n",
    "\n",
    "print(\"np.equal(m, 13)\")\n",
    "print(np.equal(m, 13))\n",
    "\n",
    "print(\"np.sum(m < 12, axis=1)\")\n",
    "print(\"how many values less than 12 in each row?\")\n",
    "print(np.sum(m < 12, axis=1)[:, np.newaxis])\n",
    "\n",
    "print(\"m[m < 8]\")\n",
    "print(m[m < 8])\n"
   ]
  },
  {
   "cell_type": "code",
   "execution_count": 42,
   "id": "2a8181e7",
   "metadata": {},
   "outputs": [
    {
     "name": "stdout",
     "output_type": "stream",
     "text": [
      "[[ 1  2  3  4]\n",
      " [ 5  6  7  8]\n",
      " [ 9 10 11 12]\n",
      " [13 14 15 16]]\n",
      "row = np.array(  [0, 1, 2] )\n",
      "col = np.array(  [0, 1, 2] )\n",
      " m[row,col] \n",
      "[ 1  6 11]\n",
      "m[2:, [0, 2]] \n",
      "[[ 9 11]\n",
      " [13 15]]\n"
     ]
    }
   ],
   "source": [
    "m = np.array( [[1, 2, 3, 4],\n",
    "               [5, 6, 7, 8],\n",
    "               [9, 10, 11, 12],\n",
    "               [13, 14, 15, 16] ])\n",
    "\n",
    "print(m)\n",
    "row = np.array(  [0, 1, 2] )\n",
    "col = np.array(  [0, 1, 2] )\n",
    "print(\"row = np.array(  [0, 1, 2] )\")\n",
    "print(\"col = np.array(  [0, 1, 2] )\")\n",
    "print(\" m[row,col] \")\n",
    "print(   m[row,col]   )\n",
    "print(\"m[2:, [0, 2]] \")\n",
    "print( m[2:, [0, 2]]  )"
   ]
  },
  {
   "cell_type": "code",
   "execution_count": 43,
   "id": "49a6ddd2",
   "metadata": {},
   "outputs": [
    {
     "name": "stdout",
     "output_type": "stream",
     "text": [
      "[[ 1  2]\n",
      " [ 3  4]\n",
      " [ 5  6]\n",
      " [ 7  8]\n",
      " [ 9 10]\n",
      " [11 12]\n",
      " [13 14]\n",
      " [15 16]\n",
      " [17 18]\n",
      " [19 20]]\n",
      "(10, 1, 2)\n",
      "[[[ 1  2]]\n",
      "\n",
      " [[ 3  4]]\n",
      "\n",
      " [[ 5  6]]\n",
      "\n",
      " [[ 7  8]]\n",
      "\n",
      " [[ 9 10]]\n",
      "\n",
      " [[11 12]]\n",
      "\n",
      " [[13 14]]\n",
      "\n",
      " [[15 16]]\n",
      "\n",
      " [[17 18]]\n",
      "\n",
      " [[19 20]]]\n",
      "(1, 10, 2)\n",
      "[[[ 1  2]\n",
      "  [ 3  4]\n",
      "  [ 5  6]\n",
      "  [ 7  8]\n",
      "  [ 9 10]\n",
      "  [11 12]\n",
      "  [13 14]\n",
      "  [15 16]\n",
      "  [17 18]\n",
      "  [19 20]]]\n",
      "(10, 10, 2)\n",
      "  diff = (m1 - m2)**2 \n",
      "[[[  0   0]\n",
      "  [  4   4]\n",
      "  [ 16  16]\n",
      "  [ 36  36]\n",
      "  [ 64  64]\n",
      "  [100 100]\n",
      "  [144 144]\n",
      "  [196 196]\n",
      "  [256 256]\n",
      "  [324 324]]\n",
      "\n",
      " [[  4   4]\n",
      "  [  0   0]\n",
      "  [  4   4]\n",
      "  [ 16  16]\n",
      "  [ 36  36]\n",
      "  [ 64  64]\n",
      "  [100 100]\n",
      "  [144 144]\n",
      "  [196 196]\n",
      "  [256 256]]\n",
      "\n",
      " [[ 16  16]\n",
      "  [  4   4]\n",
      "  [  0   0]\n",
      "  [  4   4]\n",
      "  [ 16  16]\n",
      "  [ 36  36]\n",
      "  [ 64  64]\n",
      "  [100 100]\n",
      "  [144 144]\n",
      "  [196 196]]\n",
      "\n",
      " [[ 36  36]\n",
      "  [ 16  16]\n",
      "  [  4   4]\n",
      "  [  0   0]\n",
      "  [  4   4]\n",
      "  [ 16  16]\n",
      "  [ 36  36]\n",
      "  [ 64  64]\n",
      "  [100 100]\n",
      "  [144 144]]\n",
      "\n",
      " [[ 64  64]\n",
      "  [ 36  36]\n",
      "  [ 16  16]\n",
      "  [  4   4]\n",
      "  [  0   0]\n",
      "  [  4   4]\n",
      "  [ 16  16]\n",
      "  [ 36  36]\n",
      "  [ 64  64]\n",
      "  [100 100]]\n",
      "\n",
      " [[100 100]\n",
      "  [ 64  64]\n",
      "  [ 36  36]\n",
      "  [ 16  16]\n",
      "  [  4   4]\n",
      "  [  0   0]\n",
      "  [  4   4]\n",
      "  [ 16  16]\n",
      "  [ 36  36]\n",
      "  [ 64  64]]\n",
      "\n",
      " [[144 144]\n",
      "  [100 100]\n",
      "  [ 64  64]\n",
      "  [ 36  36]\n",
      "  [ 16  16]\n",
      "  [  4   4]\n",
      "  [  0   0]\n",
      "  [  4   4]\n",
      "  [ 16  16]\n",
      "  [ 36  36]]\n",
      "\n",
      " [[196 196]\n",
      "  [144 144]\n",
      "  [100 100]\n",
      "  [ 64  64]\n",
      "  [ 36  36]\n",
      "  [ 16  16]\n",
      "  [  4   4]\n",
      "  [  0   0]\n",
      "  [  4   4]\n",
      "  [ 16  16]]\n",
      "\n",
      " [[256 256]\n",
      "  [196 196]\n",
      "  [144 144]\n",
      "  [100 100]\n",
      "  [ 64  64]\n",
      "  [ 36  36]\n",
      "  [ 16  16]\n",
      "  [  4   4]\n",
      "  [  0   0]\n",
      "  [  4   4]]\n",
      "\n",
      " [[324 324]\n",
      "  [256 256]\n",
      "  [196 196]\n",
      "  [144 144]\n",
      "  [100 100]\n",
      "  [ 64  64]\n",
      "  [ 36  36]\n",
      "  [ 16  16]\n",
      "  [  4   4]\n",
      "  [  0   0]]]\n",
      "np.sum(diff, axis=-1)\n",
      "[[  0   8  32  72 128 200 288 392 512 648]\n",
      " [  8   0   8  32  72 128 200 288 392 512]\n",
      " [ 32   8   0   8  32  72 128 200 288 392]\n",
      " [ 72  32   8   0   8  32  72 128 200 288]\n",
      " [128  72  32   8   0   8  32  72 128 200]\n",
      " [200 128  72  32   8   0   8  32  72 128]\n",
      " [288 200 128  72  32   8   0   8  32  72]\n",
      " [392 288 200 128  72  32   8   0   8  32]\n",
      " [512 392 288 200 128  72  32   8   0   8]\n",
      " [648 512 392 288 200 128  72  32   8   0]]\n"
     ]
    }
   ],
   "source": [
    "m = np.array( [[1, 2],\n",
    "               [3, 4],\n",
    "               [5, 6],\n",
    "               [7, 8],\n",
    "               [9, 10],\n",
    "               [11, 12],\n",
    "               [13, 14],\n",
    "               [15, 16],\n",
    "               [17, 18],\n",
    "               [19, 20] ])\n",
    "               \n",
    "print(m)\n",
    "m1 = m[:, np.newaxis, :]  ## for broadcasting\n",
    "print(m1.shape)\n",
    "print(m1)\n",
    "\n",
    "m2 = m[np.newaxis, :,:]  ## for broadcasting\n",
    "print(m2.shape)\n",
    "print(m2)\n",
    "\n",
    "diff = (m1 - m2)**2\n",
    "print(diff.shape)\n",
    "print(\"  diff = (m1 - m2)**2 \")\n",
    "print(diff)\n",
    "print(\"np.sum(diff, axis=-1)\")\n",
    "print(np.sum(diff, axis=-1))"
   ]
  },
  {
   "cell_type": "code",
   "execution_count": 44,
   "id": "a69a47bd",
   "metadata": {},
   "outputs": [
    {
     "name": "stdout",
     "output_type": "stream",
     "text": [
      "[[[-1.15500572 -0.09898891  1.68354476 ...  0.75242297 -0.03399199\n",
      "   -0.85097363]\n",
      "  [-1.02881608 -0.35584648  0.23930027 ...  0.89577565 -0.23375535\n",
      "   -1.39763275]\n",
      "  [ 1.07512961 -2.32533169 -0.77889661 ... -1.07489641 -1.36209509\n",
      "   -0.28175762]\n",
      "  ...\n",
      "  [ 0.58042414 -0.60891814 -0.56786259 ... -1.52573739  0.62452658\n",
      "   -1.00771198]\n",
      "  [-0.41515624  1.31860709  1.09694743 ... -0.53065856  1.30912496\n",
      "   -0.63827302]\n",
      "  [ 0.95181034 -0.77321017  1.27445866 ...  0.00918701 -2.2496124\n",
      "   -0.54917505]]\n",
      "\n",
      " [[-0.19131769  1.93234075  0.40075779 ...  2.72809868 -0.13381073\n",
      "   -1.06437518]\n",
      "  [-0.05206704 -0.03055221  0.35540838 ...  0.61505608 -1.05958552\n",
      "    0.48109414]\n",
      "  [-0.22048218 -0.19628262  0.31731986 ... -1.45613571  1.41819104\n",
      "    0.10488916]\n",
      "  ...\n",
      "  [ 0.96746316  0.90744244  0.69760863 ...  0.17541032 -0.33420933\n",
      "   -0.97887654]\n",
      "  [-0.28072264  2.11783257 -1.47814567 ... -0.66589405 -0.96645763\n",
      "   -0.29435509]\n",
      "  [ 1.90015788 -2.10438071 -0.4751436  ... -0.1643926   1.25958455\n",
      "    0.04075552]]\n",
      "\n",
      " [[ 0.80468502  1.38080184  0.05702822 ...  1.55527354  0.18384433\n",
      "    2.33605049]\n",
      "  [ 0.48455343  0.99556839  0.80496259 ...  0.70016709 -2.44127135\n",
      "    0.26575724]\n",
      "  [ 0.28695054 -0.77051738  0.27372954 ...  1.26319633  1.02804678\n",
      "   -0.65137519]\n",
      "  ...\n",
      "  [-0.35391393  1.53469374 -1.12486421 ... -0.12687492  1.76204283\n",
      "   -0.06688349]\n",
      "  [-0.70538744  0.26261782  0.72390672 ... -0.24938479  0.00444537\n",
      "   -0.31048503]\n",
      "  [ 0.36777195  0.24772256  0.66592877 ...  1.83605062  0.04652099\n",
      "   -1.05385697]]\n",
      "\n",
      " ...\n",
      "\n",
      " [[ 0.30191284  1.10235133 -0.88670058 ...  0.50510728  2.518039\n",
      "   -0.41845636]\n",
      "  [ 1.20056729 -1.12668425 -0.28331075 ... -1.21794375 -1.8745268\n",
      "   -0.50752635]\n",
      "  [-1.10423704  0.54192893  0.61077064 ... -0.47541861  0.07235729\n",
      "   -0.62541615]\n",
      "  ...\n",
      "  [-1.86721072  0.83906191  0.19761702 ... -0.69362971  1.26162947\n",
      "   -0.36892596]\n",
      "  [-0.6750967   1.23480737 -1.08169611 ... -0.18953139  0.50262954\n",
      "   -1.2979086 ]\n",
      "  [-0.86692351 -0.39017913 -0.95663843 ... -1.28065768  0.53542436\n",
      "    0.6063748 ]]\n",
      "\n",
      " [[-1.55670132  1.00173042  1.10641641 ... -0.31441973  0.80795872\n",
      "    0.83320623]\n",
      "  [-0.06196539 -0.79814841  0.45110522 ... -1.2569448  -0.75662908\n",
      "   -0.14686539]\n",
      "  [ 1.23168585  0.06702078  0.37256521 ...  0.75607502  1.55586163\n",
      "   -0.13391658]\n",
      "  ...\n",
      "  [ 0.54414476 -1.04625437 -0.20585567 ... -0.1289643   0.74614347\n",
      "   -0.59305437]\n",
      "  [ 1.97951253  0.18932735 -0.07460312 ... -0.67973703 -0.78125863\n",
      "   -0.23037069]\n",
      "  [ 1.75394174  1.45155443  2.11691576 ...  0.03078967 -0.59051557\n",
      "    0.20079482]]\n",
      "\n",
      " [[ 0.76326626  1.24753559 -1.10292567 ... -0.71839243 -0.435132\n",
      "   -0.17751457]\n",
      "  [-0.36961824 -0.01690227 -0.21360994 ... -1.35271616  0.30905799\n",
      "   -1.26273792]\n",
      "  [-0.81624636 -1.97799379  0.50987059 ... -0.42798459  0.66545236\n",
      "   -0.43309637]\n",
      "  ...\n",
      "  [-0.23654722  0.77462959  0.66499572 ... -1.66262707  0.36022029\n",
      "   -0.5497312 ]\n",
      "  [ 1.49390096 -0.03112049 -1.331531   ...  0.9460173   0.43697752\n",
      "   -1.90255583]\n",
      "  [ 1.06254201  0.93629562  2.16651415 ...  0.30461814  0.26641052\n",
      "    1.5169908 ]]]\n",
      "i\n",
      "[[  0   1   2   3   4   5   6   7   8   9  10  11  12  13  14  15  16  17\n",
      "   18  19  20  21  22  23  24  25  26  27  28  29  30  31  32  33  34  35\n",
      "   36  37  38  39  40  41  42  43  44  45  46  47  48  49  50  51  52  53\n",
      "   54  55  56  57  58  59  60  61  62  63  64  65  66  67  68  69  70  71\n",
      "   72  73  74  75  76  77  78  79  80  81  82  83  84  85  86  87  88  89\n",
      "   90  91  92  93  94  95  96  97  98  99 100 101 102 103 104 105 106 107\n",
      "  108 109 110 111 112 113 114 115 116 117 118 119 120 121 122 123 124 125\n",
      "  126 127 128 129 130 131 132 133 134 135 136 137 138 139 140 141 142 143\n",
      "  144 145 146 147 148 149 150 151 152 153 154 155 156 157 158 159 160 161\n",
      "  162 163 164 165 166 167 168 169 170 171 172 173 174 175 176 177 178 179\n",
      "  180 181 182 183 184 185 186 187 188 189 190 191 192 193 194 195 196 197\n",
      "  198 199 200 201 202 203 204 205 206 207 208 209 210 211 212 213 214 215\n",
      "  216 217 218 219 220 221 222 223 224 225 226 227 228 229 230 231 232 233\n",
      "  234 235 236 237 238 239 240 241 242 243 244 245 246 247 248 249 250 251\n",
      "  252 253 254 255 256 257 258 259 260 261 262 263 264 265 266 267 268 269\n",
      "  270 271 272 273 274 275 276 277 278 279 280 281 282 283 284 285 286 287\n",
      "  288 289 290 291 292 293 294 295 296 297 298 299 300 301 302 303 304 305\n",
      "  306 307 308 309 310 311 312 313 314 315 316 317 318 319 320 321 322 323\n",
      "  324 325 326 327 328 329 330 331 332 333 334 335 336 337 338 339 340 341\n",
      "  342 343 344 345 346 347 348 349 350 351 352 353 354 355 356 357 358 359\n",
      "  360 361 362 363 364 365 366 367 368 369 370 371 372 373 374 375 376 377\n",
      "  378 379 380 381 382 383 384 385 386 387 388 389 390 391 392 393 394 395\n",
      "  396 397 398 399 400 401 402 403 404 405 406 407 408 409 410 411 412 413\n",
      "  414 415 416 417 418 419 420 421 422 423 424 425 426 427 428 429 430 431\n",
      "  432 433 434 435 436 437 438 439 440 441 442 443 444 445 446 447 448 449\n",
      "  450 451 452 453 454 455 456 457 458 459 460 461 462 463 464 465 466 467\n",
      "  468 469 470 471 472 473 474 475 476 477 478 479 480 481 482 483 484 485\n",
      "  486 487 488 489 490 491 492 493 494 495 496 497 498 499 500 501 502 503\n",
      "  504 505 506 507 508 509 510 511]]\n",
      "pos\n",
      "[[ 0]\n",
      " [ 1]\n",
      " [ 2]\n",
      " [ 3]\n",
      " [ 4]\n",
      " [ 5]\n",
      " [ 6]\n",
      " [ 7]\n",
      " [ 8]\n",
      " [ 9]\n",
      " [10]\n",
      " [11]\n",
      " [12]\n",
      " [13]\n",
      " [14]\n",
      " [15]\n",
      " [16]\n",
      " [17]\n",
      " [18]\n",
      " [19]\n",
      " [20]\n",
      " [21]\n",
      " [22]\n",
      " [23]\n",
      " [24]\n",
      " [25]\n",
      " [26]\n",
      " [27]\n",
      " [28]\n",
      " [29]\n",
      " [30]\n",
      " [31]\n",
      " [32]\n",
      " [33]\n",
      " [34]\n",
      " [35]\n",
      " [36]\n",
      " [37]\n",
      " [38]\n",
      " [39]]\n",
      " angle_rates = 1 / np.power(10000, (2 * (i // 2)) / 512 ) \n",
      "[[1.00000000e+00 1.00000000e+00 9.64661620e-01 9.64661620e-01\n",
      "  9.30572041e-01 9.30572041e-01 8.97687132e-01 8.97687132e-01\n",
      "  8.65964323e-01 8.65964323e-01 8.35362547e-01 8.35362547e-01\n",
      "  8.05842188e-01 8.05842188e-01 7.77365030e-01 7.77365030e-01\n",
      "  7.49894209e-01 7.49894209e-01 7.23394163e-01 7.23394163e-01\n",
      "  6.97830585e-01 6.97830585e-01 6.73170382e-01 6.73170382e-01\n",
      "  6.49381632e-01 6.49381632e-01 6.26433537e-01 6.26433537e-01\n",
      "  6.04296390e-01 6.04296390e-01 5.82941535e-01 5.82941535e-01\n",
      "  5.62341325e-01 5.62341325e-01 5.42469094e-01 5.42469094e-01\n",
      "  5.23299115e-01 5.23299115e-01 5.04806572e-01 5.04806572e-01\n",
      "  4.86967525e-01 4.86967525e-01 4.69758882e-01 4.69758882e-01\n",
      "  4.53158364e-01 4.53158364e-01 4.37144481e-01 4.37144481e-01\n",
      "  4.21696503e-01 4.21696503e-01 4.06794432e-01 4.06794432e-01\n",
      "  3.92418976e-01 3.92418976e-01 3.78551525e-01 3.78551525e-01\n",
      "  3.65174127e-01 3.65174127e-01 3.52269465e-01 3.52269465e-01\n",
      "  3.39820833e-01 3.39820833e-01 3.27812115e-01 3.27812115e-01\n",
      "  3.16227766e-01 3.16227766e-01 3.05052789e-01 3.05052789e-01\n",
      "  2.94272718e-01 2.94272718e-01 2.83873596e-01 2.83873596e-01\n",
      "  2.73841963e-01 2.73841963e-01 2.64164832e-01 2.64164832e-01\n",
      "  2.54829675e-01 2.54829675e-01 2.45824407e-01 2.45824407e-01\n",
      "  2.37137371e-01 2.37137371e-01 2.28757320e-01 2.28757320e-01\n",
      "  2.20673407e-01 2.20673407e-01 2.12875166e-01 2.12875166e-01\n",
      "  2.05352503e-01 2.05352503e-01 1.98095678e-01 1.98095678e-01\n",
      "  1.91095297e-01 1.91095297e-01 1.84342299e-01 1.84342299e-01\n",
      "  1.77827941e-01 1.77827941e-01 1.71543790e-01 1.71543790e-01\n",
      "  1.65481710e-01 1.65481710e-01 1.59633854e-01 1.59633854e-01\n",
      "  1.53992653e-01 1.53992653e-01 1.48550802e-01 1.48550802e-01\n",
      "  1.43301257e-01 1.43301257e-01 1.38237223e-01 1.38237223e-01\n",
      "  1.33352143e-01 1.33352143e-01 1.28639694e-01 1.28639694e-01\n",
      "  1.24093776e-01 1.24093776e-01 1.19708503e-01 1.19708503e-01\n",
      "  1.15478198e-01 1.15478198e-01 1.11397386e-01 1.11397386e-01\n",
      "  1.07460783e-01 1.07460783e-01 1.03663293e-01 1.03663293e-01\n",
      "  1.00000000e-01 1.00000000e-01 9.64661620e-02 9.64661620e-02\n",
      "  9.30572041e-02 9.30572041e-02 8.97687132e-02 8.97687132e-02\n",
      "  8.65964323e-02 8.65964323e-02 8.35362547e-02 8.35362547e-02\n",
      "  8.05842188e-02 8.05842188e-02 7.77365030e-02 7.77365030e-02\n",
      "  7.49894209e-02 7.49894209e-02 7.23394163e-02 7.23394163e-02\n",
      "  6.97830585e-02 6.97830585e-02 6.73170382e-02 6.73170382e-02\n",
      "  6.49381632e-02 6.49381632e-02 6.26433537e-02 6.26433537e-02\n",
      "  6.04296390e-02 6.04296390e-02 5.82941535e-02 5.82941535e-02\n",
      "  5.62341325e-02 5.62341325e-02 5.42469094e-02 5.42469094e-02\n",
      "  5.23299115e-02 5.23299115e-02 5.04806572e-02 5.04806572e-02\n",
      "  4.86967525e-02 4.86967525e-02 4.69758882e-02 4.69758882e-02\n",
      "  4.53158364e-02 4.53158364e-02 4.37144481e-02 4.37144481e-02\n",
      "  4.21696503e-02 4.21696503e-02 4.06794432e-02 4.06794432e-02\n",
      "  3.92418976e-02 3.92418976e-02 3.78551525e-02 3.78551525e-02\n",
      "  3.65174127e-02 3.65174127e-02 3.52269465e-02 3.52269465e-02\n",
      "  3.39820833e-02 3.39820833e-02 3.27812115e-02 3.27812115e-02\n",
      "  3.16227766e-02 3.16227766e-02 3.05052789e-02 3.05052789e-02\n",
      "  2.94272718e-02 2.94272718e-02 2.83873596e-02 2.83873596e-02\n",
      "  2.73841963e-02 2.73841963e-02 2.64164832e-02 2.64164832e-02\n",
      "  2.54829675e-02 2.54829675e-02 2.45824407e-02 2.45824407e-02\n",
      "  2.37137371e-02 2.37137371e-02 2.28757320e-02 2.28757320e-02\n",
      "  2.20673407e-02 2.20673407e-02 2.12875166e-02 2.12875166e-02\n",
      "  2.05352503e-02 2.05352503e-02 1.98095678e-02 1.98095678e-02\n",
      "  1.91095297e-02 1.91095297e-02 1.84342299e-02 1.84342299e-02\n",
      "  1.77827941e-02 1.77827941e-02 1.71543790e-02 1.71543790e-02\n",
      "  1.65481710e-02 1.65481710e-02 1.59633854e-02 1.59633854e-02\n",
      "  1.53992653e-02 1.53992653e-02 1.48550802e-02 1.48550802e-02\n",
      "  1.43301257e-02 1.43301257e-02 1.38237223e-02 1.38237223e-02\n",
      "  1.33352143e-02 1.33352143e-02 1.28639694e-02 1.28639694e-02\n",
      "  1.24093776e-02 1.24093776e-02 1.19708503e-02 1.19708503e-02\n",
      "  1.15478198e-02 1.15478198e-02 1.11397386e-02 1.11397386e-02\n",
      "  1.07460783e-02 1.07460783e-02 1.03663293e-02 1.03663293e-02\n",
      "  1.00000000e-02 1.00000000e-02 9.64661620e-03 9.64661620e-03\n",
      "  9.30572041e-03 9.30572041e-03 8.97687132e-03 8.97687132e-03\n",
      "  8.65964323e-03 8.65964323e-03 8.35362547e-03 8.35362547e-03\n",
      "  8.05842188e-03 8.05842188e-03 7.77365030e-03 7.77365030e-03\n",
      "  7.49894209e-03 7.49894209e-03 7.23394163e-03 7.23394163e-03\n",
      "  6.97830585e-03 6.97830585e-03 6.73170382e-03 6.73170382e-03\n",
      "  6.49381632e-03 6.49381632e-03 6.26433537e-03 6.26433537e-03\n",
      "  6.04296390e-03 6.04296390e-03 5.82941535e-03 5.82941535e-03\n",
      "  5.62341325e-03 5.62341325e-03 5.42469094e-03 5.42469094e-03\n",
      "  5.23299115e-03 5.23299115e-03 5.04806572e-03 5.04806572e-03\n",
      "  4.86967525e-03 4.86967525e-03 4.69758882e-03 4.69758882e-03\n",
      "  4.53158364e-03 4.53158364e-03 4.37144481e-03 4.37144481e-03\n",
      "  4.21696503e-03 4.21696503e-03 4.06794432e-03 4.06794432e-03\n",
      "  3.92418976e-03 3.92418976e-03 3.78551525e-03 3.78551525e-03\n",
      "  3.65174127e-03 3.65174127e-03 3.52269465e-03 3.52269465e-03\n",
      "  3.39820833e-03 3.39820833e-03 3.27812115e-03 3.27812115e-03\n",
      "  3.16227766e-03 3.16227766e-03 3.05052789e-03 3.05052789e-03\n",
      "  2.94272718e-03 2.94272718e-03 2.83873596e-03 2.83873596e-03\n",
      "  2.73841963e-03 2.73841963e-03 2.64164832e-03 2.64164832e-03\n",
      "  2.54829675e-03 2.54829675e-03 2.45824407e-03 2.45824407e-03\n",
      "  2.37137371e-03 2.37137371e-03 2.28757320e-03 2.28757320e-03\n",
      "  2.20673407e-03 2.20673407e-03 2.12875166e-03 2.12875166e-03\n",
      "  2.05352503e-03 2.05352503e-03 1.98095678e-03 1.98095678e-03\n",
      "  1.91095297e-03 1.91095297e-03 1.84342299e-03 1.84342299e-03\n",
      "  1.77827941e-03 1.77827941e-03 1.71543790e-03 1.71543790e-03\n",
      "  1.65481710e-03 1.65481710e-03 1.59633854e-03 1.59633854e-03\n",
      "  1.53992653e-03 1.53992653e-03 1.48550802e-03 1.48550802e-03\n",
      "  1.43301257e-03 1.43301257e-03 1.38237223e-03 1.38237223e-03\n",
      "  1.33352143e-03 1.33352143e-03 1.28639694e-03 1.28639694e-03\n",
      "  1.24093776e-03 1.24093776e-03 1.19708503e-03 1.19708503e-03\n",
      "  1.15478198e-03 1.15478198e-03 1.11397386e-03 1.11397386e-03\n",
      "  1.07460783e-03 1.07460783e-03 1.03663293e-03 1.03663293e-03\n",
      "  1.00000000e-03 1.00000000e-03 9.64661620e-04 9.64661620e-04\n",
      "  9.30572041e-04 9.30572041e-04 8.97687132e-04 8.97687132e-04\n",
      "  8.65964323e-04 8.65964323e-04 8.35362547e-04 8.35362547e-04\n",
      "  8.05842188e-04 8.05842188e-04 7.77365030e-04 7.77365030e-04\n",
      "  7.49894209e-04 7.49894209e-04 7.23394163e-04 7.23394163e-04\n",
      "  6.97830585e-04 6.97830585e-04 6.73170382e-04 6.73170382e-04\n",
      "  6.49381632e-04 6.49381632e-04 6.26433537e-04 6.26433537e-04\n",
      "  6.04296390e-04 6.04296390e-04 5.82941535e-04 5.82941535e-04\n",
      "  5.62341325e-04 5.62341325e-04 5.42469094e-04 5.42469094e-04\n",
      "  5.23299115e-04 5.23299115e-04 5.04806572e-04 5.04806572e-04\n",
      "  4.86967525e-04 4.86967525e-04 4.69758882e-04 4.69758882e-04\n",
      "  4.53158364e-04 4.53158364e-04 4.37144481e-04 4.37144481e-04\n",
      "  4.21696503e-04 4.21696503e-04 4.06794432e-04 4.06794432e-04\n",
      "  3.92418976e-04 3.92418976e-04 3.78551525e-04 3.78551525e-04\n",
      "  3.65174127e-04 3.65174127e-04 3.52269465e-04 3.52269465e-04\n",
      "  3.39820833e-04 3.39820833e-04 3.27812115e-04 3.27812115e-04\n",
      "  3.16227766e-04 3.16227766e-04 3.05052789e-04 3.05052789e-04\n",
      "  2.94272718e-04 2.94272718e-04 2.83873596e-04 2.83873596e-04\n",
      "  2.73841963e-04 2.73841963e-04 2.64164832e-04 2.64164832e-04\n",
      "  2.54829675e-04 2.54829675e-04 2.45824407e-04 2.45824407e-04\n",
      "  2.37137371e-04 2.37137371e-04 2.28757320e-04 2.28757320e-04\n",
      "  2.20673407e-04 2.20673407e-04 2.12875166e-04 2.12875166e-04\n",
      "  2.05352503e-04 2.05352503e-04 1.98095678e-04 1.98095678e-04\n",
      "  1.91095297e-04 1.91095297e-04 1.84342299e-04 1.84342299e-04\n",
      "  1.77827941e-04 1.77827941e-04 1.71543790e-04 1.71543790e-04\n",
      "  1.65481710e-04 1.65481710e-04 1.59633854e-04 1.59633854e-04\n",
      "  1.53992653e-04 1.53992653e-04 1.48550802e-04 1.48550802e-04\n",
      "  1.43301257e-04 1.43301257e-04 1.38237223e-04 1.38237223e-04\n",
      "  1.33352143e-04 1.33352143e-04 1.28639694e-04 1.28639694e-04\n",
      "  1.24093776e-04 1.24093776e-04 1.19708503e-04 1.19708503e-04\n",
      "  1.15478198e-04 1.15478198e-04 1.11397386e-04 1.11397386e-04\n",
      "  1.07460783e-04 1.07460783e-04 1.03663293e-04 1.03663293e-04]]\n"
     ]
    }
   ],
   "source": [
    "batch = np.random.normal(0, 1,  (64, 40, 512))\n",
    "print(batch)\n",
    "\n",
    "\n",
    "## np.newaxis changes i from [512,]   to [1, 512]\n",
    "i   = np.arange(512)[np.newaxis, :]\n",
    "\n",
    "print(\"i\")\n",
    "print(i)\n",
    "\n",
    "\n",
    "## np.newaxis changes pos from [40,]   to [40, 1]\n",
    "pos = np.arange(40)[:, np.newaxis]\n",
    "\n",
    "print(\"pos\")\n",
    "print(pos)\n",
    "\n",
    "\n",
    "angle_rates = 1 / np.power(10000,     (2 * (i // 2)) / 512.0      )\n",
    "\n",
    "print(\" angle_rates = 1 / np.power(10000, (2 * (i // 2)) / 512 ) \")\n",
    "print(angle_rates)"
   ]
  },
  {
   "cell_type": "code",
   "execution_count": 45,
   "id": "7e9b279a",
   "metadata": {
    "scrolled": true
   },
   "outputs": [
    {
     "name": "stdout",
     "output_type": "stream",
     "text": [
      "angle_rads = pos * angle_rates\n",
      "[[0.00000000e+00 0.00000000e+00 0.00000000e+00 ... 0.00000000e+00\n",
      "  0.00000000e+00 0.00000000e+00]\n",
      " [1.00000000e+00 1.00000000e+00 9.64661620e-01 ... 1.07460783e-04\n",
      "  1.03663293e-04 1.03663293e-04]\n",
      " [2.00000000e+00 2.00000000e+00 1.92932324e+00 ... 2.14921566e-04\n",
      "  2.07326586e-04 2.07326586e-04]\n",
      " ...\n",
      " [3.70000000e+01 3.70000000e+01 3.56924799e+01 ... 3.97604896e-03\n",
      "  3.83554184e-03 3.83554184e-03]\n",
      " [3.80000000e+01 3.80000000e+01 3.66571416e+01 ... 4.08350975e-03\n",
      "  3.93920513e-03 3.93920513e-03]\n",
      " [3.90000000e+01 3.90000000e+01 3.76218032e+01 ... 4.19097053e-03\n",
      "  4.04286842e-03 4.04286842e-03]]\n",
      "i.shape  (1, 512)\n",
      "pos.shape  (40, 1)\n",
      "batch.shape  (64, 40, 512)\n",
      "angle_rates.shape  (1, 512)\n",
      "angle_rads.shape  (40, 512)\n",
      "sin and cos to angle_rads \n",
      "[[ 0.00000000e+00  1.00000000e+00  0.00000000e+00 ...  1.00000000e+00\n",
      "   0.00000000e+00  1.00000000e+00]\n",
      " [ 8.41470985e-01  5.40302306e-01  8.21856190e-01 ...  9.99999994e-01\n",
      "   1.03663293e-04  9.99999995e-01]\n",
      " [ 9.09297427e-01 -4.16146837e-01  9.36414739e-01 ...  9.99999977e-01\n",
      "   2.07326584e-04  9.99999979e-01]\n",
      " ...\n",
      " [-6.43538133e-01  7.65414052e-01 -9.06517604e-01 ...  9.99992096e-01\n",
      "   3.83553243e-03  9.99992644e-01]\n",
      " [ 2.96368579e-01  9.55073644e-01 -8.63399952e-01 ...  9.99991662e-01\n",
      "   3.93919494e-03  9.99992241e-01]\n",
      " [ 9.63795386e-01  2.66642932e-01 -7.72316820e-02 ...  9.99991218e-01\n",
      "   4.04285741e-03  9.99991828e-01]]\n"
     ]
    },
    {
     "data": {
      "image/png": "[encoded data removed]",
      "text/plain": [
       "<Figure size 432x288 with 2 Axes>"
      ]
     },
     "metadata": {
      "needs_background": "light"
     },
     "output_type": "display_data"
    },
    {
     "name": "stdout",
     "output_type": "stream",
     "text": [
      "angle_rads[np.newaxis, ...]  \n",
      "angle_rads.shape  (1, 40, 512)\n"
     ]
    }
   ],
   "source": [
    "angle_rads = pos * angle_rates\n",
    "\n",
    "\n",
    "print(\"angle_rads = pos * angle_rates\")\n",
    "print(angle_rads)\n",
    "\n",
    "print(\"i.shape \", i.shape)\n",
    "print(\"pos.shape \", pos.shape)\n",
    "print(\"batch.shape \", batch.shape)\n",
    "print(\"angle_rates.shape \", angle_rates.shape)\n",
    "print(\"angle_rads.shape \", angle_rads.shape)\n",
    "\n",
    "\n",
    "angle_rads[:, 0::2]    = np.sin(angle_rads[:, 0::2])       ## even index\n",
    "angle_rads[:, 1::2]    = np.cos(angle_rads[:, 1::2])       ## odd index\n",
    "\n",
    "print(\"sin and cos to angle_rads \")\n",
    "print(angle_rads)\n",
    "\n",
    "plt.pcolormesh(angle_rads, cmap='RdBu')\n",
    "plt.xlabel('Depth')\n",
    "plt.xlim((0, 512))\n",
    "plt.ylabel('Position')\n",
    "plt.colorbar()\n",
    "plt.show()\n",
    "\n",
    "angle_rads = angle_rads[np.newaxis, ...]   ## (1, 40, 512)   for broadcasting?\n",
    "print(\"angle_rads[np.newaxis, ...]  \")\n",
    "print(\"angle_rads.shape \", angle_rads.shape)\n"
   ]
  },
  {
   "cell_type": "code",
   "execution_count": 46,
   "id": "a755e155",
   "metadata": {
    "scrolled": true
   },
   "outputs": [
    {
     "name": "stdout",
     "output_type": "stream",
     "text": [
      "<<<<<<<<<<<<<<<<<<<DONE>>>>>>>>>>>>>>>>>>>>>\n"
     ]
    }
   ],
   "source": [
    "print(\"<<<<<<<<<<<<<<<<<<<DONE>>>>>>>>>>>>>>>>>>>>>\")\n"
   ]
  },
  {
   "cell_type": "code",
   "execution_count": null,
   "id": "35d0c46e",
   "metadata": {},
   "outputs": [],
   "source": []
  }
 ],
 "metadata": {
  "kernelspec": {
   "display_name": "Python 3 (ipykernel)",
   "language": "python",
   "name": "python3"
  },
  "language_info": {
   "codemirror_mode": {
    "name": "ipython",
    "version": 3
   },
   "file_extension": ".py",
   "mimetype": "text/x-python",
   "name": "python",
   "nbconvert_exporter": "python",
   "pygments_lexer": "ipython3",
   "version": "3.8.13"
  },
  "widgets": {
   "application/vnd.jupyter.widget-state+json": {
    "state": {},
    "version_major": 2,
    "version_minor": 0
   }
  }
 },
 "nbformat": 4,
 "nbformat_minor": 5
}
