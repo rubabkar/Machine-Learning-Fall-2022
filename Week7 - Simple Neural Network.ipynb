{
 "cells": [
  {
   "cell_type": "markdown",
   "id": "628b5ede",
   "metadata": {},
   "source": [
    "## Simple Neural Network"
   ]
  },
  {
   "cell_type": "code",
   "execution_count": 111,
   "id": "b8e69a47",
   "metadata": {},
   "outputs": [],
   "source": [
    "import torch\n",
    "import numpy as np\n",
    "\n",
    "import matplotlib.pyplot as plt\n",
    "\n",
    "import torch.optim as optim\n",
    "import torch.nn as nn"
   ]
  },
  {
   "cell_type": "code",
   "execution_count": 112,
   "id": "195ce2c6",
   "metadata": {},
   "outputs": [
    {
     "name": "stdout",
     "output_type": "stream",
     "text": [
      "torch.Size([11])\n",
      "torch.Size([11])\n",
      "torch.Size([11, 1])\n",
      "torch.Size([11, 1])\n"
     ]
    }
   ],
   "source": [
    "# Inputs\n",
    "t_c = [0.5,  14.0, 15.0, 28.0, 11.0,  8.0,  3.0, -4.0,  6.0, 13.0, 21.0]\n",
    "\n",
    "# Outputs\n",
    "t_u = [35.7, 55.9, 58.2, 81.9, 56.3, 48.9, 33.9, 21.8, 48.4, 60.4, 68.4]\n",
    "\n",
    "t_c = torch.tensor(  t_c   )\n",
    "t_u = torch.tensor(  t_u   )\n",
    "\n",
    "print(t_u.shape)\n",
    "print(t_c.shape)\n",
    "\n",
    "t_c = t_c.unsqueeze(1)\n",
    "t_u = t_u.unsqueeze(1)\n",
    "\n",
    "print(t_u.shape)\n",
    "print(t_c.shape)\n",
    "\n",
    "# t_u = 0.1 * t_u (for normalizing)"
   ]
  },
  {
   "cell_type": "markdown",
   "id": "6daad155",
   "metadata": {},
   "source": [
    "## Splitting the Data"
   ]
  },
  {
   "cell_type": "code",
   "execution_count": 113,
   "id": "98b35494",
   "metadata": {},
   "outputs": [
    {
     "data": {
      "text/plain": [
       "11"
      ]
     },
     "execution_count": 113,
     "metadata": {},
     "output_type": "execute_result"
    }
   ],
   "source": [
    "n_samples = t_u.shape[0]\n",
    "n_samples"
   ]
  },
  {
   "cell_type": "code",
   "execution_count": 114,
   "id": "d5f9c7fc",
   "metadata": {},
   "outputs": [
    {
     "data": {
      "text/plain": [
       "3"
      ]
     },
     "execution_count": 114,
     "metadata": {},
     "output_type": "execute_result"
    }
   ],
   "source": [
    "n_val = int(0.3 * n_samples)\n",
    "n_val"
   ]
  },
  {
   "cell_type": "code",
   "execution_count": 115,
   "id": "50b98b33",
   "metadata": {},
   "outputs": [
    {
     "data": {
      "text/plain": [
       "tensor([ 2,  7,  0, 10,  8,  1,  5,  3,  9,  4,  6])"
      ]
     },
     "execution_count": 115,
     "metadata": {},
     "output_type": "execute_result"
    }
   ],
   "source": [
    "shuffled_indeces = torch.randperm(n_samples)\n",
    "shuffled_indeces"
   ]
  },
  {
   "cell_type": "code",
   "execution_count": 116,
   "id": "953f3ebb",
   "metadata": {},
   "outputs": [
    {
     "name": "stdout",
     "output_type": "stream",
     "text": [
      "tensor([ 2,  7,  0, 10,  8,  1,  5,  3])\n",
      "tensor([9, 4, 6])\n"
     ]
    }
   ],
   "source": [
    "train_indeces = shuffled_indeces[:-n_val]\n",
    "val_indeces = shuffled_indeces[-n_val:]\n",
    "\n",
    "print(train_indeces)\n",
    "print(val_indeces)"
   ]
  },
  {
   "cell_type": "code",
   "execution_count": 125,
   "id": "2cbb5330",
   "metadata": {},
   "outputs": [],
   "source": [
    "train_t_u = t_u[train_indeces]\n",
    "train_t_c = t_c[train_indeces]\n",
    "\n",
    "val_t_u = t_u[train_indeces]\n",
    "val_t_c = t_c[train_indeces]"
   ]
  },
  {
   "cell_type": "markdown",
   "id": "48293093",
   "metadata": {},
   "source": [
    "## Training Loop"
   ]
  },
  {
   "cell_type": "code",
   "execution_count": 126,
   "id": "4689d1a6",
   "metadata": {},
   "outputs": [],
   "source": [
    "def training_loop(n_epochs, optimizer, model, loss_fn, train_t_u, val_t_u, train_t_c, val_t_c):\n",
    "    \n",
    "    for epoch in range(1, n_epochs):\n",
    "        \n",
    "        train_t_p = model(train_t_u)\n",
    "        train_loss = loss_fn(train_t_p, train_t_c)\n",
    "        \n",
    "        val_t_p = model(val_t_u)\n",
    "        val_loss = loss_fn(val_t_p, val_t_c)\n",
    "        \n",
    "        optimizer.zero_grad()\n",
    "        train_loss.backward()\n",
    "        optimizer.step()\n",
    "        \n",
    "        \n",
    "        if epoch % 500 == 0:\n",
    "            print(\"Train Loss: \", train_loss.item())\n",
    "            print(\"Val Loss: \", val_loss.item())\n"
   ]
  },
  {
   "cell_type": "markdown",
   "id": "b3e3ae0c",
   "metadata": {},
   "source": [
    "## Architecture (Neural Network)"
   ]
  },
  {
   "cell_type": "code",
   "execution_count": 127,
   "id": "fdf9df74",
   "metadata": {},
   "outputs": [],
   "source": [
    "def model_fn_linear():\n",
    "    return nn.Linear(1, 1)"
   ]
  },
  {
   "cell_type": "code",
   "execution_count": 128,
   "id": "034ce881",
   "metadata": {},
   "outputs": [],
   "source": [
    "## MLP\n",
    "\n",
    "def model_fn_nn_1hidden():\n",
    "    \n",
    "    seq_model = nn.Sequential(\n",
    "        nn.Linear(1, 13),\n",
    "        nn.Tanh(),\n",
    "        \n",
    "        nn.Linear(13, 1),\n",
    "    \n",
    "    )\n",
    "    \n",
    "    return seq_model"
   ]
  },
  {
   "cell_type": "code",
   "execution_count": 129,
   "id": "e672fbe2",
   "metadata": {},
   "outputs": [],
   "source": [
    "def model_deep_learning_3hidden():\n",
    "    seq_model = nn.Sequential(\n",
    "        nn.Linear(1, 20),\n",
    "        nn.ReLU(),\n",
    "        \n",
    "        nn.Linear(20, 10),\n",
    "        nn.Tanh(),\n",
    "        \n",
    "        nn.Linear(10, 5),\n",
    "        nn.Tanh(),\n",
    "        \n",
    "        nn.Linear(5, 1)\n",
    "    )\n",
    "    \n",
    "    return seq_model"
   ]
  },
  {
   "cell_type": "markdown",
   "id": "9eb75aeb",
   "metadata": {},
   "source": [
    "## Function Calls"
   ]
  },
  {
   "cell_type": "code",
   "execution_count": 131,
   "id": "01aa28b2",
   "metadata": {},
   "outputs": [],
   "source": [
    "## model = model_fn_linear()\n",
    "\n",
    "model = model_fn_nn_1hidden()\n",
    "\n",
    "##model = model_deep_learning_3hidden()\n",
    "optimizer = optim.Adam(model.parameters(), lr = 0.001)\n",
    "loss_fn = nn.MSELoss()"
   ]
  },
  {
   "cell_type": "markdown",
   "id": "96325005",
   "metadata": {},
   "source": [
    "## Call Training Loop"
   ]
  },
  {
   "cell_type": "code",
   "execution_count": 132,
   "id": "a40128a7",
   "metadata": {},
   "outputs": [
    {
     "name": "stdout",
     "output_type": "stream",
     "text": [
      "Train Loss:  119.6680908203125\n",
      "Val Loss:  119.6680908203125\n",
      "Train Loss:  86.40985107421875\n",
      "Val Loss:  86.40985107421875\n",
      "Train Loss:  67.35377502441406\n",
      "Val Loss:  67.35377502441406\n",
      "Train Loss:  51.88848876953125\n",
      "Val Loss:  51.88848876953125\n",
      "Train Loss:  38.601951599121094\n",
      "Val Loss:  38.601951599121094\n",
      "Train Loss:  27.713743209838867\n",
      "Val Loss:  27.713743209838867\n",
      "Train Loss:  19.280574798583984\n",
      "Val Loss:  19.280574798583984\n",
      "Train Loss:  13.115633964538574\n",
      "Val Loss:  13.115633964538574\n",
      "Train Loss:  8.895417213439941\n",
      "Val Loss:  8.895417213439941\n",
      "Train Loss:  6.205022811889648\n",
      "Val Loss:  6.205022811889648\n",
      "Train Loss:  4.468473434448242\n",
      "Val Loss:  4.468473434448242\n",
      "Train Loss:  3.2044432163238525\n",
      "Val Loss:  3.2044432163238525\n",
      "Train Loss:  2.2880136966705322\n",
      "Val Loss:  2.2880136966705322\n",
      "Train Loss:  1.6461204290390015\n",
      "Val Loss:  1.6461204290390015\n",
      "Train Loss:  1.215924859046936\n",
      "Val Loss:  1.215924859046936\n",
      "Train Loss:  0.917737603187561\n",
      "Val Loss:  0.917737603187561\n",
      "Train Loss:  0.7391196489334106\n",
      "Val Loss:  0.7391196489334106\n",
      "Train Loss:  0.6235150694847107\n",
      "Val Loss:  0.6235150694847107\n",
      "Train Loss:  0.5339421033859253\n",
      "Val Loss:  0.5339421033859253\n",
      "Train Loss:  0.4471490681171417\n",
      "Val Loss:  0.4471490681171417\n",
      "Train Loss:  0.36239227652549744\n",
      "Val Loss:  0.36239227652549744\n",
      "Train Loss:  0.293550968170166\n",
      "Val Loss:  0.293550968170166\n",
      "Train Loss:  0.24663028120994568\n",
      "Val Loss:  0.24663028120994568\n",
      "Train Loss:  0.21819186210632324\n",
      "Val Loss:  0.21819186210632324\n",
      "Train Loss:  0.20142453908920288\n",
      "Val Loss:  0.20142453908920288\n",
      "Train Loss:  0.19014640152454376\n",
      "Val Loss:  0.19014640152454376\n",
      "Train Loss:  0.18095746636390686\n",
      "Val Loss:  0.18095746636390686\n",
      "Train Loss:  0.17275133728981018\n",
      "Val Loss:  0.17275133728981018\n",
      "Train Loss:  0.1647767275571823\n",
      "Val Loss:  0.1647767275571823\n",
      "Train Loss:  0.15697212517261505\n",
      "Val Loss:  0.15697212517261505\n",
      "Train Loss:  0.14925642311573029\n",
      "Val Loss:  0.14925642311573029\n",
      "Train Loss:  0.14184506237506866\n",
      "Val Loss:  0.14184506237506866\n",
      "Train Loss:  0.13465847074985504\n",
      "Val Loss:  0.13465847074985504\n",
      "Train Loss:  0.12950076162815094\n",
      "Val Loss:  0.12950076162815094\n",
      "Train Loss:  0.12601172924041748\n",
      "Val Loss:  0.12601172924041748\n",
      "Train Loss:  0.12343088537454605\n",
      "Val Loss:  0.12343088537454605\n",
      "Train Loss:  0.12133684009313583\n",
      "Val Loss:  0.12133684009313583\n",
      "Train Loss:  0.11953282356262207\n",
      "Val Loss:  0.11953282356262207\n",
      "Train Loss:  0.11793316900730133\n",
      "Val Loss:  0.11793316900730133\n",
      "Train Loss:  0.11656880378723145\n",
      "Val Loss:  0.11656880378723145\n",
      "Train Loss:  0.11518437415361404\n",
      "Val Loss:  0.11518437415361404\n",
      "Train Loss:  0.11401066184043884\n",
      "Val Loss:  0.11401066184043884\n",
      "Train Loss:  0.1129276379942894\n",
      "Val Loss:  0.1129276379942894\n",
      "Train Loss:  0.11187450587749481\n",
      "Val Loss:  0.11187450587749481\n",
      "Train Loss:  0.11088241636753082\n",
      "Val Loss:  0.11088241636753082\n",
      "Train Loss:  0.10994358360767365\n",
      "Val Loss:  0.10994358360767365\n",
      "Train Loss:  0.10903231799602509\n",
      "Val Loss:  0.10903231799602509\n",
      "Train Loss:  0.10814891755580902\n",
      "Val Loss:  0.10814891755580902\n",
      "Train Loss:  0.10730419307947159\n",
      "Val Loss:  0.10730419307947159\n",
      "Train Loss:  0.10647410899400711\n",
      "Val Loss:  0.10647410899400711\n",
      "Train Loss:  0.10672713071107864\n",
      "Val Loss:  0.10672713071107864\n",
      "Train Loss:  0.10504918545484543\n",
      "Val Loss:  0.10504918545484543\n",
      "Train Loss:  0.10412537306547165\n",
      "Val Loss:  0.10412537306547165\n",
      "Train Loss:  0.10336919873952866\n",
      "Val Loss:  0.10336919873952866\n",
      "Train Loss:  0.10262661427259445\n",
      "Val Loss:  0.10262661427259445\n",
      "Train Loss:  0.10197093337774277\n",
      "Val Loss:  0.10197093337774277\n",
      "Train Loss:  0.1011686623096466\n",
      "Val Loss:  0.1011686623096466\n",
      "Train Loss:  0.10045278072357178\n",
      "Val Loss:  0.10045278072357178\n",
      "Train Loss:  0.09974326193332672\n",
      "Val Loss:  0.09974326193332672\n"
     ]
    }
   ],
   "source": [
    "result = training_loop(\n",
    "    \n",
    "    n_epochs = 30000,\n",
    "    optimizer = optimizer,\n",
    "    model = model,\n",
    "    loss_fn = loss_fn,\n",
    "    train_t_u = train_t_u,\n",
    "    val_t_u = val_t_u,\n",
    "    train_t_c = train_t_c,\n",
    "    val_t_c = val_t_c\n",
    ")\n"
   ]
  },
  {
   "cell_type": "code",
   "execution_count": 133,
   "id": "5cc31d58",
   "metadata": {},
   "outputs": [
    {
     "name": "stdout",
     "output_type": "stream",
     "text": [
      "tensor([[14.9033],\n",
      "        [-3.9993],\n",
      "        [ 0.4629],\n",
      "        [21.0066],\n",
      "        [ 6.6166],\n",
      "        [14.1322],\n",
      "        [ 7.3805],\n",
      "        [27.9986]], grad_fn=<AddmmBackward0>)\n"
     ]
    }
   ],
   "source": [
    "## Celsius from Farenheit\n",
    "## 100 c = 212 f\n",
    "\n",
    "my_Temp = model(val_t_u)\n",
    "\n",
    "print(my_Temp)"
   ]
  },
  {
   "cell_type": "code",
   "execution_count": 134,
   "id": "ab614ef0",
   "metadata": {},
   "outputs": [
    {
     "name": "stdout",
     "output_type": "stream",
     "text": [
      "tensor([[15.0000],\n",
      "        [-4.0000],\n",
      "        [ 0.5000],\n",
      "        [21.0000],\n",
      "        [ 6.0000],\n",
      "        [14.0000],\n",
      "        [ 8.0000],\n",
      "        [28.0000]])\n"
     ]
    }
   ],
   "source": [
    "print(val_t_c)"
   ]
  },
  {
   "cell_type": "code",
   "execution_count": null,
   "id": "31a5a856",
   "metadata": {},
   "outputs": [],
   "source": []
  }
 ],
 "metadata": {
  "kernelspec": {
   "display_name": "ITS5200",
   "language": "python",
   "name": "its5200"
  },
  "language_info": {
   "codemirror_mode": {
    "name": "ipython",
    "version": 3
   },
   "file_extension": ".py",
   "mimetype": "text/x-python",
   "name": "python",
   "nbconvert_exporter": "python",
   "pygments_lexer": "ipython3",
   "version": "3.8.13"
  }
 },
 "nbformat": 4,
 "nbformat_minor": 5
}
