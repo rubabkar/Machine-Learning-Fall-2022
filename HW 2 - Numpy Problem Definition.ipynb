{
 "cells": [
  {
   "cell_type": "markdown",
   "id": "383eadde",
   "metadata": {},
   "source": [
    "## 1. Create 2 matrices. a of size 3x4, and b of size 5x4, and merged them into one single one of size 8x4"
   ]
  },
  {
   "cell_type": "code",
   "execution_count": 1,
   "id": "74769766",
   "metadata": {},
   "outputs": [],
   "source": [
    "import numpy as np"
   ]
  },
  {
   "cell_type": "code",
   "execution_count": 3,
   "id": "eb240b0d",
   "metadata": {},
   "outputs": [],
   "source": [
    "a=np.array([[1,2,3,4],[5,6,7,8],[9,10,11,12]])\n",
    "b=np.array([[13,14,15,16],[17,18,19,20],[21,22,23,24],[25,26,27,28],[30,31,32,33]])"
   ]
  },
  {
   "cell_type": "code",
   "execution_count": 4,
   "id": "9a2ec5b7",
   "metadata": {},
   "outputs": [],
   "source": [
    "c=np.concatenate([a,b],axis=0)"
   ]
  },
  {
   "cell_type": "code",
   "execution_count": 6,
   "id": "e0f647f7",
   "metadata": {},
   "outputs": [
    {
     "name": "stdout",
     "output_type": "stream",
     "text": [
      "The final results is a (8, 4) matrix :\n",
      "\n",
      "[[ 1  2  3  4]\n",
      " [ 5  6  7  8]\n",
      " [ 9 10 11 12]\n",
      " [13 14 15 16]\n",
      " [17 18 19 20]\n",
      " [21 22 23 24]\n",
      " [25 26 27 28]\n",
      " [30 31 32 33]]\n"
     ]
    }
   ],
   "source": [
    "print(f\"The final results is a {c.shape} matrix :\\n\\n{c}\")"
   ]
  },
  {
   "cell_type": "markdown",
   "id": "8a0bed2e",
   "metadata": {},
   "source": [
    "## 2. Create a vector of size 10 and call it a. Now copy it into a new vector and call it b, but make the values in b shifted by one index to the right from the values in a. Use 0 to ensure the both have the same length. "
   ]
  },
  {
   "cell_type": "code",
   "execution_count": 7,
   "id": "94e66b23",
   "metadata": {},
   "outputs": [
    {
     "name": "stdout",
     "output_type": "stream",
     "text": [
      "The resultant vector 'b' is shifted by 1 index to right from a :[0 1 2 3 4 5 6 7 8]\n"
     ]
    }
   ],
   "source": [
    "a=np.arange(10)\n",
    "b=a[:-1]\n",
    "print(f\"The resultant vector 'b' is shifted by 1 index to right from a :{b}\")"
   ]
  },
  {
   "cell_type": "markdown",
   "id": "3ce0d946",
   "metadata": {},
   "source": [
    "## 3. Create a matrix x, and a mask matrix m, add or multiply x with m (x operation m = new_x) sothat only the values below the diagonal appear in the new matrix (new_x)."
   ]
  },
  {
   "cell_type": "code",
   "execution_count": 9,
   "id": "8fac55d9",
   "metadata": {},
   "outputs": [
    {
     "name": "stdout",
     "output_type": "stream",
     "text": [
      "Masked Matrix from x:\n",
      "[[2 4 3]\n",
      " [6 5 3]\n",
      " [8 9 1]]\n",
      "\n",
      " The new matrix after required operation x*m:\n",
      "[[0 0 0]\n",
      " [6 0 0]\n",
      " [8 9 0]]\n"
     ]
    }
   ],
   "source": [
    "x=np.array([[2,4,3],[6,5,3],[8,9,1]])\n",
    "\n",
    "m=x>5\n",
    "print(f\"Masked Matrix from x:\\n{x}\")\n",
    "\n",
    "new_x=x*m\n",
    "print(f\"\\n The new matrix after required operation x*m:\\n{new_x}\")"
   ]
  },
  {
   "cell_type": "code",
   "execution_count": null,
   "id": "6eeef1d5",
   "metadata": {},
   "outputs": [],
   "source": []
  }
 ],
 "metadata": {
  "kernelspec": {
   "display_name": "ITS5200",
   "language": "python",
   "name": "its5200"
  },
  "language_info": {
   "codemirror_mode": {
    "name": "ipython",
    "version": 3
   },
   "file_extension": ".py",
   "mimetype": "text/x-python",
   "name": "python",
   "nbconvert_exporter": "python",
   "pygments_lexer": "ipython3",
   "version": "3.8.13"
  }
 },
 "nbformat": 4,
 "nbformat_minor": 5
}
