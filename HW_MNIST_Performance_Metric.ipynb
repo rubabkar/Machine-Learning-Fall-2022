{
 "cells": [
  {
   "cell_type": "markdown",
   "id": "460a0c74",
   "metadata": {},
   "source": [
    "## This file depicts the training and testing of the MNIST Dataset - Rubab Karim\n",
    "\n",
    "MNIST is an image classification problem, and Iris is a plant species tabular classification problem. "
   ]
  },
  {
   "cell_type": "code",
   "execution_count": 1,
   "id": "567b0bec",
   "metadata": {},
   "outputs": [],
   "source": [
    "import torch\n",
    "import imageio\n",
    "import os\n",
    "\n",
    "import matplotlib.pyplot as plt\n",
    "\n",
    "import numpy as np\n",
    "import torch.nn as nn\n",
    "import torch.optim as optim\n",
    "\n",
    "from torchvision import datasets\n",
    "from torchvision import transforms\n",
    "\n",
    "import sklearn\n",
    "\n",
    "from sklearn.model_selection import train_test_split\n",
    "\n",
    "from sklearn.metrics import confusion_matrix\n",
    "from sklearn.metrics import precision_score\n",
    "from sklearn.metrics import recall_score, accuracy_score, f1_score\n",
    "\n",
    "import pandas as pd\n",
    "from collections import Counter"
   ]
  },
  {
   "cell_type": "code",
   "execution_count": 2,
   "id": "5a2e4c2f",
   "metadata": {},
   "outputs": [],
   "source": [
    "data_path = 'data/MNIST/'\n",
    "\n",
    "mnist = datasets.MNIST(data_path, train = True, download = True)"
   ]
  },
  {
   "cell_type": "markdown",
   "id": "c8d500e3",
   "metadata": {},
   "source": [
    "### Here, we load the MNIST Dataset into the validation set"
   ]
  },
  {
   "cell_type": "code",
   "execution_count": 3,
   "id": "00b464d5",
   "metadata": {},
   "outputs": [],
   "source": [
    "mnist_val = datasets.MNIST(data_path, train = False, download = True)"
   ]
  },
  {
   "cell_type": "code",
   "execution_count": 4,
   "id": "3708e5b3",
   "metadata": {},
   "outputs": [
    {
     "name": "stdout",
     "output_type": "stream",
     "text": [
      "Dataset MNIST\n",
      "    Number of datapoints: 60000\n",
      "    Root location: data/MNIST/\n",
      "    Split: Train\n"
     ]
    }
   ],
   "source": [
    "print(mnist)"
   ]
  },
  {
   "cell_type": "code",
   "execution_count": 16,
   "id": "73522ab2",
   "metadata": {},
   "outputs": [
    {
     "name": "stdout",
     "output_type": "stream",
     "text": [
      "Dataset MNIST\n",
      "    Number of datapoints: 10000\n",
      "    Root location: data/MNIST/\n",
      "    Split: Test\n"
     ]
    }
   ],
   "source": [
    "print(mnist_val)"
   ]
  },
  {
   "cell_type": "code",
   "execution_count": 17,
   "id": "14251c76",
   "metadata": {},
   "outputs": [
    {
     "data": {
      "image/png": "[encoded data removed]",
      "text/plain": [
       "<PIL.Image.Image image mode=L size=28x28>"
      ]
     },
     "execution_count": 17,
     "metadata": {},
     "output_type": "execute_result"
    }
   ],
   "source": [
    "img, label = mnist[99]\n",
    "\n",
    "label\n",
    "img"
   ]
  },
  {
   "cell_type": "code",
   "execution_count": 18,
   "id": "48d41c90",
   "metadata": {},
   "outputs": [
    {
     "name": "stdout",
     "output_type": "stream",
     "text": [
      "<PIL.Image.Image image mode=L size=28x28 at 0x7F8A7A40A130>\n"
     ]
    }
   ],
   "source": [
    "print(img)"
   ]
  },
  {
   "cell_type": "markdown",
   "id": "c4ba641b",
   "metadata": {},
   "source": [
    "### In order to manipulate the data, we convert the dataset into a tensor"
   ]
  },
  {
   "cell_type": "code",
   "execution_count": 5,
   "id": "6ceacd88",
   "metadata": {},
   "outputs": [],
   "source": [
    "tensor_mnist = datasets.MNIST(data_path, train = True, download = False, transform = transforms.ToTensor())"
   ]
  },
  {
   "cell_type": "code",
   "execution_count": 6,
   "id": "22fd798b",
   "metadata": {},
   "outputs": [
    {
     "name": "stdout",
     "output_type": "stream",
     "text": [
      "torch.Size([1, 28, 28])\n"
     ]
    }
   ],
   "source": [
    "img_t , _ = tensor_mnist[99]\n",
    "print(img_t.shape)"
   ]
  },
  {
   "cell_type": "markdown",
   "id": "312bd775",
   "metadata": {},
   "source": [
    "### Now, we normalize the transformed datasets"
   ]
  },
  {
   "cell_type": "code",
   "execution_count": 7,
   "id": "9de57b72",
   "metadata": {},
   "outputs": [
    {
     "name": "stdout",
     "output_type": "stream",
     "text": [
      "torch.Size([1, 28, 28, 60000])\n"
     ]
    }
   ],
   "source": [
    "imgs_s = [ img_t for img_t, _ in tensor_mnist ]\n",
    "imgs = torch.stack(imgs_s, dim = 3)\n",
    "\n",
    "\n",
    "print(imgs.shape)"
   ]
  },
  {
   "cell_type": "code",
   "execution_count": 19,
   "id": "1dda030b",
   "metadata": {},
   "outputs": [
    {
     "name": "stdout",
     "output_type": "stream",
     "text": [
      "tensor([0.0839, 0.2039, 0.1042])\n"
     ]
    }
   ],
   "source": [
    "view1 = imgs.view(3, -1).mean(dim = 1)\n",
    "print(view1)"
   ]
  },
  {
   "cell_type": "code",
   "execution_count": 20,
   "id": "addbdba4",
   "metadata": {},
   "outputs": [
    {
     "name": "stdout",
     "output_type": "stream",
     "text": [
      "tensor([0.2537, 0.3659, 0.2798])\n"
     ]
    }
   ],
   "source": [
    "view2 = imgs.view(3, -1).std(dim = 1)\n",
    "print(view2)"
   ]
  },
  {
   "cell_type": "code",
   "execution_count": 10,
   "id": "a31be6ec",
   "metadata": {},
   "outputs": [],
   "source": [
    "transformed_mnist = datasets.MNIST(data_path, train = True, download = False, \n",
    "                                       transform = transforms.Compose([\n",
    "                                           transforms.ToTensor()\n",
    "                                           ##,\n",
    "                                           ##transforms.Normalize(view1, view2)\n",
    "                                         ]))"
   ]
  },
  {
   "cell_type": "code",
   "execution_count": 11,
   "id": "8ed2ecec",
   "metadata": {},
   "outputs": [],
   "source": [
    "transformed_mnist_val = datasets.MNIST(data_path, train = False, download = False, \n",
    "                                       transform = transforms.Compose([\n",
    "                                           transforms.ToTensor()\n",
    "                                           ##,\n",
    "                                           ##transforms.Normalize(view1, view2)\n",
    "                                         ]))"
   ]
  },
  {
   "cell_type": "markdown",
   "id": "d7085b3c",
   "metadata": {},
   "source": [
    "### After that, we can then build the dataset"
   ]
  },
  {
   "cell_type": "code",
   "execution_count": 24,
   "id": "2d93b481",
   "metadata": {},
   "outputs": [],
   "source": [
    "label_map = {0:0, 3:1}"
   ]
  },
  {
   "cell_type": "code",
   "execution_count": 25,
   "id": "3f71a795",
   "metadata": {},
   "outputs": [],
   "source": [
    "class_names = ['0', '1']"
   ]
  },
  {
   "cell_type": "code",
   "execution_count": 26,
   "id": "1e845937",
   "metadata": {},
   "outputs": [
    {
     "ename": "KeyError",
     "evalue": "2",
     "output_type": "error",
     "traceback": [
      "\u001b[0;31m---------------------------------------------------------------------------\u001b[0m",
      "\u001b[0;31mKeyError\u001b[0m                                  Traceback (most recent call last)",
      "Input \u001b[0;32mIn [26]\u001b[0m, in \u001b[0;36m<cell line: 1>\u001b[0;34m()\u001b[0m\n\u001b[0;32m----> 1\u001b[0m mnist2 \u001b[38;5;241m=\u001b[39m [ (img, label_map[label]) \u001b[38;5;28;01mfor\u001b[39;00m img, label \u001b[38;5;129;01min\u001b[39;00m transformed_mnist \u001b[38;5;28;01mif\u001b[39;00m label \u001b[38;5;129;01min\u001b[39;00m [\u001b[38;5;241m0\u001b[39m, \u001b[38;5;241m2\u001b[39m]]\n",
      "Input \u001b[0;32mIn [26]\u001b[0m, in \u001b[0;36m<listcomp>\u001b[0;34m(.0)\u001b[0m\n\u001b[0;32m----> 1\u001b[0m mnist2 \u001b[38;5;241m=\u001b[39m [ (img, \u001b[43mlabel_map\u001b[49m\u001b[43m[\u001b[49m\u001b[43mlabel\u001b[49m\u001b[43m]\u001b[49m) \u001b[38;5;28;01mfor\u001b[39;00m img, label \u001b[38;5;129;01min\u001b[39;00m transformed_mnist \u001b[38;5;28;01mif\u001b[39;00m label \u001b[38;5;129;01min\u001b[39;00m [\u001b[38;5;241m0\u001b[39m, \u001b[38;5;241m2\u001b[39m]]\n",
      "\u001b[0;31mKeyError\u001b[0m: 2"
     ]
    }
   ],
   "source": [
    "mnist2 = [ (img, label_map[label]) for img, label in transformed_mnist if label in [0, 2]]"
   ]
  },
  {
   "cell_type": "code",
   "execution_count": null,
   "id": "2d913d87",
   "metadata": {},
   "outputs": [],
   "source": []
  },
  {
   "cell_type": "code",
   "execution_count": null,
   "id": "1cd26e50",
   "metadata": {},
   "outputs": [],
   "source": []
  }
 ],
 "metadata": {
  "kernelspec": {
   "display_name": "ITS5200",
   "language": "python",
   "name": "its5200"
  },
  "language_info": {
   "codemirror_mode": {
    "name": "ipython",
    "version": 3
   },
   "file_extension": ".py",
   "mimetype": "text/x-python",
   "name": "python",
   "nbconvert_exporter": "python",
   "pygments_lexer": "ipython3",
   "version": "3.8.13"
  }
 },
 "nbformat": 4,
 "nbformat_minor": 5
}
