{
 "cells": [
  {
   "cell_type": "code",
   "execution_count": 32,
   "id": "55bb7213",
   "metadata": {},
   "outputs": [],
   "source": [
    "import torch\n",
    "import numpy as np\n",
    "\n",
    "import matplotlib.pyplot as plt\n",
    "\n",
    "import torch.optim as optim\n",
    "import torch.nn as nn"
   ]
  },
  {
   "cell_type": "code",
   "execution_count": 33,
   "id": "b5f612a4",
   "metadata": {},
   "outputs": [
    {
     "name": "stdout",
     "output_type": "stream",
     "text": [
      "tensor([35.7000, 55.9000, 58.2000, 81.9000, 56.3000, 48.9000, 33.9000, 21.8000,\n",
      "        48.4000, 60.4000, 68.4000])\n",
      "tensor([ 0.5000, 14.0000, 15.0000, 28.0000, 11.0000,  8.0000,  3.0000, -4.0000,\n",
      "         6.0000, 13.0000, 21.0000])\n"
     ]
    }
   ],
   "source": [
    "# Inputs\n",
    "t_c = [0.5,  14.0, 15.0, 28.0, 11.0,  8.0,  3.0, -4.0,  6.0, 13.0, 21.0]\n",
    "\n",
    "# Outputs\n",
    "t_u = [35.7, 55.9, 58.2, 81.9, 56.3, 48.9, 33.9, 21.8, 48.4, 60.4, 68.4]\n",
    "\n",
    "t_c = torch.tensor(  t_c   )\n",
    "t_u = torch.tensor(  t_u   )\n",
    "\n",
    "print(t_u)\n",
    "print(t_c)\n",
    "\n",
    "# t_u = 0.1 * t_u (for normalizing)"
   ]
  },
  {
   "cell_type": "markdown",
   "id": "dbcbcf11",
   "metadata": {},
   "source": [
    "## Splitting the Data"
   ]
  },
  {
   "cell_type": "code",
   "execution_count": 34,
   "id": "24c22740",
   "metadata": {},
   "outputs": [
    {
     "data": {
      "text/plain": [
       "11"
      ]
     },
     "execution_count": 34,
     "metadata": {},
     "output_type": "execute_result"
    }
   ],
   "source": [
    "n_samples = t_u.shape[0]\n",
    "n_samples"
   ]
  },
  {
   "cell_type": "code",
   "execution_count": 35,
   "id": "972e55d5",
   "metadata": {},
   "outputs": [
    {
     "data": {
      "text/plain": [
       "3"
      ]
     },
     "execution_count": 35,
     "metadata": {},
     "output_type": "execute_result"
    }
   ],
   "source": [
    "n_val = int(0.3 * n_samples)\n",
    "n_val"
   ]
  },
  {
   "cell_type": "code",
   "execution_count": 36,
   "id": "ca63f366",
   "metadata": {},
   "outputs": [
    {
     "data": {
      "text/plain": [
       "tensor([ 4,  7,  0, 10,  9,  5,  2,  8,  3,  1,  6])"
      ]
     },
     "execution_count": 36,
     "metadata": {},
     "output_type": "execute_result"
    }
   ],
   "source": [
    "shuffled_indeces = torch.randperm(n_samples)\n",
    "shuffled_indeces"
   ]
  },
  {
   "cell_type": "code",
   "execution_count": 37,
   "id": "84d2243a",
   "metadata": {},
   "outputs": [
    {
     "name": "stdout",
     "output_type": "stream",
     "text": [
      "tensor([ 4,  7,  0, 10,  9,  5,  2,  8])\n"
     ]
    }
   ],
   "source": [
    "train_indeces = shuffled_indeces[:-n_val]\n",
    "val_indeces = shuffled_indeces[-n_val:]\n",
    "\n",
    "print(train_indeces)"
   ]
  },
  {
   "cell_type": "code",
   "execution_count": 38,
   "id": "0bcc2ad0",
   "metadata": {},
   "outputs": [
    {
     "name": "stdout",
     "output_type": "stream",
     "text": [
      "tensor([3, 1, 6])\n"
     ]
    }
   ],
   "source": [
    "print(val_indeces)"
   ]
  },
  {
   "cell_type": "code",
   "execution_count": 57,
   "id": "e03e62d3",
   "metadata": {},
   "outputs": [],
   "source": [
    "train_t_u = t_u[train_indeces]\n",
    "train_t_c = t_c[train_indeces]"
   ]
  },
  {
   "cell_type": "code",
   "execution_count": 69,
   "id": "48e37758",
   "metadata": {},
   "outputs": [],
   "source": [
    "val_t_u = t_u[train_indeces]\n",
    "val_t_c = t_c[train_indeces]"
   ]
  },
  {
   "cell_type": "markdown",
   "id": "adb005cb",
   "metadata": {},
   "source": [
    "#### Note - There is always two equations happening - Inference Function and Loss Function for every model."
   ]
  },
  {
   "cell_type": "markdown",
   "id": "30786d61",
   "metadata": {},
   "source": [
    "## Inference Function"
   ]
  },
  {
   "cell_type": "code",
   "execution_count": 70,
   "id": "c9f31c73",
   "metadata": {},
   "outputs": [],
   "source": [
    "def model(t_u, w, b):\n",
    "    return w*t_u + b     # w & b are random values, e.g. 4 or -7, y(t_c) = w(t_u) * x + b"
   ]
  },
  {
   "cell_type": "markdown",
   "id": "a5b9a1bf",
   "metadata": {},
   "source": [
    "## Loss Function"
   ]
  },
  {
   "cell_type": "code",
   "execution_count": 71,
   "id": "3db07f48",
   "metadata": {},
   "outputs": [],
   "source": [
    "def loss_fn(y_real, y_pred):\n",
    "    squared_diffs = (y_real - y_pred) ** 2\n",
    "    return squared_diffs.mean()"
   ]
  },
  {
   "cell_type": "markdown",
   "id": "72b6326c",
   "metadata": {},
   "source": [
    "## Train Function"
   ]
  },
  {
   "cell_type": "code",
   "execution_count": 72,
   "id": "3835e862",
   "metadata": {},
   "outputs": [],
   "source": [
    "def training_loop(n_epochs, optimizer, params, train_t_u, val_t_u, train_t_c, val_t_c):\n",
    "    \n",
    "    for epoch in range(1, n_epochs):\n",
    "        \n",
    "        train_t_p = model(train_t_u, *params)\n",
    "        train_loss = loss_fn(train_t_p, train_t_c)\n",
    "        \n",
    "        with torch.no_grad():\n",
    "            val_t_p = model(val_t_u, *params)\n",
    "            val_loss = loss_fn(val_t_p, val_t_c)\n",
    "        \n",
    "        optimizer.zero_grad()\n",
    "        train_loss.backward()\n",
    "        optimizer.step()\n",
    "        \n",
    "        ## if epoch % 500 == 0:\n",
    "        ##    print(train_loss.item())\n",
    "        ##    print(val_loss.item())\n",
    "        \n",
    "            \n",
    "    return params"
   ]
  },
  {
   "cell_type": "markdown",
   "id": "770f6491",
   "metadata": {},
   "source": [
    "## Function Calls"
   ]
  },
  {
   "cell_type": "code",
   "execution_count": 78,
   "id": "03548ffe",
   "metadata": {},
   "outputs": [],
   "source": [
    "params = torch.tensor([1.0, 0.0], requires_grad = True)\n",
    "learning_rate = 0.0001\n",
    "optimizer = optim.Adam( [params], lr = learning_rate )\n",
    "\n",
    "## optimizer = optim.Adam( [params, lr = learning_rate] )"
   ]
  },
  {
   "cell_type": "markdown",
   "id": "b0eb2915",
   "metadata": {},
   "source": [
    "## Call Training Loop"
   ]
  },
  {
   "cell_type": "code",
   "execution_count": 79,
   "id": "3fed7ec6",
   "metadata": {},
   "outputs": [
    {
     "name": "stdout",
     "output_type": "stream",
     "text": [
      "tensor([ 0.7222, -0.2786], requires_grad=True)\n"
     ]
    }
   ],
   "source": [
    "result = training_loop(\n",
    "    \n",
    "    n_epochs = 3000,\n",
    "    optimizer = optimizer,\n",
    "    params = params,\n",
    "    train_t_u = train_t_u,\n",
    "    val_t_u = val_t_u,\n",
    "    train_t_c = train_t_c,\n",
    "    val_t_c = val_t_c\n",
    ")\n",
    "\n",
    "print(result)"
   ]
  },
  {
   "cell_type": "code",
   "execution_count": 80,
   "id": "8bffff38",
   "metadata": {},
   "outputs": [
    {
     "name": "stdout",
     "output_type": "stream",
     "text": [
      "tensor(22.8331, grad_fn=<AddBackward0>)\n"
     ]
    }
   ],
   "source": [
    "## Celsius from Farenheit\n",
    "## 100 c = 212 f\n",
    "\n",
    "my_Temp = model(32, * result)\n",
    "\n",
    "print(my_Temp)"
   ]
  },
  {
   "cell_type": "code",
   "execution_count": null,
   "id": "7353f0c4",
   "metadata": {},
   "outputs": [],
   "source": []
  },
  {
   "cell_type": "code",
   "execution_count": null,
   "id": "f9d6b809",
   "metadata": {},
   "outputs": [],
   "source": []
  },
  {
   "cell_type": "code",
   "execution_count": null,
   "id": "1e410f9a",
   "metadata": {},
   "outputs": [],
   "source": []
  }
 ],
 "metadata": {
  "kernelspec": {
   "display_name": "ITS5200",
   "language": "python",
   "name": "its5200"
  },
  "language_info": {
   "codemirror_mode": {
    "name": "ipython",
    "version": 3
   },
   "file_extension": ".py",
   "mimetype": "text/x-python",
   "name": "python",
   "nbconvert_exporter": "python",
   "pygments_lexer": "ipython3",
   "version": "3.8.13"
  }
 },
 "nbformat": 4,
 "nbformat_minor": 5
}
