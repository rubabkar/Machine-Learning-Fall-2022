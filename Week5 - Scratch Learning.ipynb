{
 "cells": [
  {
   "cell_type": "markdown",
   "id": "aadd1387",
   "metadata": {},
   "source": [
    "## Code for Scratch Learning (using a Linear Function)\n",
    "\n",
    "The equation: y = w * x + b"
   ]
  },
  {
   "cell_type": "code",
   "execution_count": 3,
   "id": "a1578ad2",
   "metadata": {},
   "outputs": [],
   "source": [
    "import torch\n",
    "import numpy as np\n",
    "from matplotlib import pyplot as plt"
   ]
  },
  {
   "cell_type": "code",
   "execution_count": 5,
   "id": "ea57e2b7",
   "metadata": {},
   "outputs": [],
   "source": [
    "# input\n",
    "t_c = [0.5,  14.0, 15.0, 28.0, 11.0,  8.0,  3.0, -4.0,  6.0, 13.0, 21.0]\n",
    "\n",
    "# output\n",
    "t_u = [35.7, 55.9, 58.2, 81.9, 56.3, 48.9, 33.9, 21.8, 48.4, 60.4, 68.4]\n",
    "\n",
    "t_c = torch.tensor(  t_c   )\n",
    "t_u = torch.tensor(  t_u   )\n",
    "\n",
    "## t_u = 0.1 * t_u (for normalization of data)"
   ]
  },
  {
   "cell_type": "code",
   "execution_count": 7,
   "id": "b4582714",
   "metadata": {},
   "outputs": [
    {
     "data": {
      "image/png": "[encoded data removed]",
      "text/plain": [
       "<Figure size 432x288 with 1 Axes>"
      ]
     },
     "metadata": {
      "needs_background": "light"
     },
     "output_type": "display_data"
    }
   ],
   "source": [
    "fig = plt.figure()\n",
    "\n",
    "plt.xlabel(\"temperature fahrenheit\")\n",
    "plt.ylabel(\"temperature celsius\")\n",
    "plt.plot(t_u.numpy(), t_c.numpy(), 'x')\n",
    "plt.show()"
   ]
  },
  {
   "cell_type": "markdown",
   "id": "181debdf",
   "metadata": {},
   "source": [
    "## Code for splitting the dataset"
   ]
  },
  {
   "cell_type": "code",
   "execution_count": null,
   "id": "0460692b",
   "metadata": {},
   "outputs": [],
   "source": []
  }
 ],
 "metadata": {
  "kernelspec": {
   "display_name": "ITS5200",
   "language": "python",
   "name": "its5200"
  },
  "language_info": {
   "codemirror_mode": {
    "name": "ipython",
    "version": 3
   },
   "file_extension": ".py",
   "mimetype": "text/x-python",
   "name": "python",
   "nbconvert_exporter": "python",
   "pygments_lexer": "ipython3",
   "version": "3.8.13"
  }
 },
 "nbformat": 4,
 "nbformat_minor": 5
}
