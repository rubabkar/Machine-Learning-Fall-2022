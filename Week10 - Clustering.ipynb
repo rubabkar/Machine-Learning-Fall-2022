{
 "cells": [
  {
   "cell_type": "code",
   "execution_count": 6,
   "id": "8df5f7e3",
   "metadata": {},
   "outputs": [],
   "source": [
    "import sklearn\n",
    "import pandas as pd\n",
    "\n",
    "from sklearn.feature_extraction.text import CountVectorizer"
   ]
  },
  {
   "cell_type": "code",
   "execution_count": 3,
   "id": "7f7f2130",
   "metadata": {},
   "outputs": [],
   "source": [
    "example = [\"Machine Learning is super fun\",\n",
    "           \"Python is super, super cool\",\n",
    "           \"Statistics is cool, too\",\n",
    "           \"Data Science is fun\",\n",
    "           \"Python is great for machine learning\",\n",
    "           \"I like football\",\n",
    "           \"Football is great to watch\"\n",
    "           ]"
   ]
  },
  {
   "cell_type": "code",
   "execution_count": 4,
   "id": "035af96b",
   "metadata": {},
   "outputs": [],
   "source": [
    "vectorizer = CountVectorizer(min_df=1, stop_words = 'english')"
   ]
  },
  {
   "cell_type": "code",
   "execution_count": 5,
   "id": "3d0b35df",
   "metadata": {},
   "outputs": [],
   "source": [
    "dtm = vectorizer.fit_transform(example)"
   ]
  },
  {
   "cell_type": "code",
   "execution_count": 9,
   "id": "3bd34a12",
   "metadata": {},
   "outputs": [
    {
     "name": "stdout",
     "output_type": "stream",
     "text": [
      "                                      cool  data  football  fun  great  \\\n",
      "Machine Learning is super fun            0     0         0    1      0   \n",
      "Python is super, super cool              1     0         0    0      0   \n",
      "Statistics is cool, too                  1     0         0    0      0   \n",
      "Data Science is fun                      0     1         0    1      0   \n",
      "Python is great for machine learning     0     0         0    0      1   \n",
      "I like football                          0     0         1    0      0   \n",
      "Football is great to watch               0     0         1    0      1   \n",
      "\n",
      "                                      learning  like  machine  python  \\\n",
      "Machine Learning is super fun                1     0        1       0   \n",
      "Python is super, super cool                  0     0        0       1   \n",
      "Statistics is cool, too                      0     0        0       0   \n",
      "Data Science is fun                          0     0        0       0   \n",
      "Python is great for machine learning         1     0        1       1   \n",
      "I like football                              0     1        0       0   \n",
      "Football is great to watch                   0     0        0       0   \n",
      "\n",
      "                                      science  statistics  super  watch  \n",
      "Machine Learning is super fun               0           0      1      0  \n",
      "Python is super, super cool                 0           0      2      0  \n",
      "Statistics is cool, too                     0           1      0      0  \n",
      "Data Science is fun                         1           0      0      0  \n",
      "Python is great for machine learning        0           0      0      0  \n",
      "I like football                             0           0      0      0  \n",
      "Football is great to watch                  0           0      0      1  \n"
     ]
    },
    {
     "name": "stderr",
     "output_type": "stream",
     "text": [
      "/opt/miniconda3/envs/ITS5200/lib/python3.8/site-packages/sklearn/utils/deprecation.py:87: FutureWarning: Function get_feature_names is deprecated; get_feature_names is deprecated in 1.0 and will be removed in 1.2. Please use get_feature_names_out instead.\n",
      "  warnings.warn(msg, category=FutureWarning)\n"
     ]
    }
   ],
   "source": [
    "print( pd.DataFrame(dtm.toarray(), index=example, columns=vectorizer.get_feature_names()).head(10) )"
   ]
  },
  {
   "cell_type": "code",
   "execution_count": 10,
   "id": "30361931",
   "metadata": {},
   "outputs": [],
   "source": [
    "from sklearn.cluster import KMeans"
   ]
  },
  {
   "cell_type": "code",
   "execution_count": 12,
   "id": "764d20d2",
   "metadata": {},
   "outputs": [],
   "source": [
    "km = KMeans(\n",
    "    n_clusters=2,\n",
    "    init='random',    ## np_initial_centroids\n",
    "    n_init=10,      ## 10 different initilizations\n",
    "    max_iter=300,   ## It will learn 300 times\n",
    "    tol=1e-04,\n",
    "    random_state=42\n",
    ")\n",
    "\n",
    "y_km = km.fit_predict( dtm )"
   ]
  },
  {
   "cell_type": "code",
   "execution_count": 13,
   "id": "46021ab8",
   "metadata": {},
   "outputs": [
    {
     "data": {
      "text/plain": [
       "array([1, 1, 0, 0, 1, 0, 0], dtype=int32)"
      ]
     },
     "execution_count": 13,
     "metadata": {},
     "output_type": "execute_result"
    }
   ],
   "source": [
    "y_km"
   ]
  },
  {
   "cell_type": "code",
   "execution_count": 14,
   "id": "817c4d86",
   "metadata": {},
   "outputs": [
    {
     "data": {
      "text/plain": [
       "<7x13 sparse matrix of type '<class 'numpy.int64'>'\n",
       "\twith 21 stored elements in Compressed Sparse Row format>"
      ]
     },
     "execution_count": 14,
     "metadata": {},
     "output_type": "execute_result"
    }
   ],
   "source": [
    "dtm"
   ]
  },
  {
   "cell_type": "code",
   "execution_count": null,
   "id": "d5e5d170",
   "metadata": {},
   "outputs": [],
   "source": []
  }
 ],
 "metadata": {
  "kernelspec": {
   "display_name": "ITS5200",
   "language": "python",
   "name": "its5200"
  },
  "language_info": {
   "codemirror_mode": {
    "name": "ipython",
    "version": 3
   },
   "file_extension": ".py",
   "mimetype": "text/x-python",
   "name": "python",
   "nbconvert_exporter": "python",
   "pygments_lexer": "ipython3",
   "version": "3.8.13"
  }
 },
 "nbformat": 4,
 "nbformat_minor": 5
}
