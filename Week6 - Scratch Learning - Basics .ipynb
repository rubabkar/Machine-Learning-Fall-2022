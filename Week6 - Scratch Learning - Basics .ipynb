{
 "cells": [
  {
   "cell_type": "markdown",
   "id": "a868f9ae",
   "metadata": {},
   "source": [
    "## Basics of Optimization \n",
    "\n",
    "Using a linear function\n",
    "\n",
    "y = w"
   ]
  },
  {
   "cell_type": "code",
   "execution_count": 35,
   "id": "18e3c240",
   "metadata": {},
   "outputs": [],
   "source": [
    "import torch\n",
    "import numpy as np\n",
    "import imageio\n",
    "import os\n",
    "from matplotlib import pyplot as plt\n",
    "import torch.optim as optim"
   ]
  },
  {
   "cell_type": "code",
   "execution_count": 36,
   "id": "b20db465",
   "metadata": {},
   "outputs": [
    {
     "name": "stdout",
     "output_type": "stream",
     "text": [
      "tensor([35.7000, 55.9000, 58.2000, 81.9000, 56.3000, 48.9000, 33.9000, 21.8000,\n",
      "        48.4000, 60.4000, 68.4000])\n",
      "tensor([ 0.5000, 14.0000, 15.0000, 28.0000, 11.0000,  8.0000,  3.0000, -4.0000,\n",
      "         6.0000, 13.0000, 21.0000])\n"
     ]
    }
   ],
   "source": [
    "# Inputs\n",
    "t_c = [0.5,  14.0, 15.0, 28.0, 11.0,  8.0,  3.0, -4.0,  6.0, 13.0, 21.0]\n",
    "\n",
    "# Outputs\n",
    "t_u = [35.7, 55.9, 58.2, 81.9, 56.3, 48.9, 33.9, 21.8, 48.4, 60.4, 68.4]\n",
    "\n",
    "t_c = torch.tensor(  t_c   )\n",
    "t_u = torch.tensor(  t_u   )\n",
    "\n",
    "print(t_u)\n",
    "print(t_c)\n",
    "\n",
    "# t_u = 0.1 * t_u (for normalizing)"
   ]
  },
  {
   "cell_type": "code",
   "execution_count": 37,
   "id": "14b3c9c2",
   "metadata": {},
   "outputs": [
    {
     "data": {
      "image/png": "[encoded data removed]",
      "text/plain": [
       "<Figure size 432x288 with 1 Axes>"
      ]
     },
     "metadata": {
      "needs_background": "light"
     },
     "output_type": "display_data"
    }
   ],
   "source": [
    "fig = plt.figure()\n",
    "plt.xlabel(\"temperature fahrenheit\")\n",
    "plt.ylabel(\"temperature celsius\")\n",
    "plt.plot(t_u.numpy(), t_c.numpy(), 'o')\n",
    "plt.show()"
   ]
  },
  {
   "cell_type": "markdown",
   "id": "1d6e81b4",
   "metadata": {},
   "source": [
    "## Inference Function (Model)"
   ]
  },
  {
   "cell_type": "code",
   "execution_count": 38,
   "id": "d837aaf7",
   "metadata": {},
   "outputs": [],
   "source": [
    "## t_c = w * t_u + b\n",
    "\n",
    "def model(t_u, w, b):\n",
    "    return w * t_u + b # w & b are random values, e.g. 4 or -7"
   ]
  },
  {
   "cell_type": "markdown",
   "id": "e2e4f0de",
   "metadata": {},
   "source": [
    "## Loss Function (Model)"
   ]
  },
  {
   "cell_type": "code",
   "execution_count": 39,
   "id": "2b211d61",
   "metadata": {},
   "outputs": [],
   "source": [
    "def loss_fn(y_real, y_pred):\n",
    "    squared_diffs = (y_real - y_pred)\n",
    "    return squared_diffs.mean()"
   ]
  },
  {
   "cell_type": "code",
   "execution_count": 40,
   "id": "9a2d4494",
   "metadata": {},
   "outputs": [],
   "source": [
    "#def loss_fn(t_p, t_c):\n",
    "#    squared_diffs = (t_p - t_c) ** 2\n",
    "#    return squared_diffs.mean()"
   ]
  },
  {
   "cell_type": "markdown",
   "id": "3c5673d8",
   "metadata": {},
   "source": [
    "## Training Function/ Training Loop"
   ]
  },
  {
   "cell_type": "code",
   "execution_count": 44,
   "id": "9e259483",
   "metadata": {},
   "outputs": [],
   "source": [
    "def training_loop(n_epochs, learning_rate, params, t_u, t_c):\n",
    "    for epoch in range(0, n_epochs):\n",
    "        if params.grad is not None:\n",
    "            params.grad.zero_()\n",
    "            \n",
    "        y_pred = model(t_u, *params)\n",
    "        loss = loss_fn(y_pred, t_c)\n",
    "        \n",
    "        loss.backward()\n",
    "        \n",
    "        with torch.no_grad():\n",
    "            params -= learning_rate * params.grad\n",
    "        \n",
    "        if epoch % 500 == 0:\n",
    "            print('Epoch = %d, Loss = %f' % (epoch, float(loss)))\n",
    "        \n",
    "            \n",
    "    return params"
   ]
  },
  {
   "cell_type": "code",
   "execution_count": 48,
   "id": "04a8b40d",
   "metadata": {},
   "outputs": [
    {
     "name": "stdout",
     "output_type": "stream",
     "text": [
      "Epoch = 0, Loss = 41.299999\n",
      "Epoch = 500, Loss = -13379.957031\n",
      "Epoch = 1000, Loss = -26801.298828\n",
      "Epoch = 1500, Loss = -40222.636719\n",
      "Epoch = 2000, Loss = -53643.910156\n",
      "Epoch = 2500, Loss = -67063.656250\n",
      "Epoch = 3000, Loss = -80483.421875\n",
      "Epoch = 3500, Loss = -93903.179688\n",
      "Epoch = 4000, Loss = -107323.218750\n",
      "Epoch = 4500, Loss = -120746.132812\n"
     ]
    }
   ],
   "source": [
    "result = training_loop(\n",
    "        n_epochs = 5000,\n",
    "        learning_rate= 0.01,\n",
    "        params = torch.tensor(   [1.0, 0.0], requires_grad=True   ),\n",
    "        t_u = t_u,\n",
    "        t_c = t_c\n",
    "        )\n",
    "        \n"
   ]
  },
  {
   "cell_type": "code",
   "execution_count": 49,
   "id": "0e8ca7f0",
   "metadata": {},
   "outputs": [
    {
     "name": "stdout",
     "output_type": "stream",
     "text": [
      "tensor([-2588.9683,   -49.9976], requires_grad=True)\n"
     ]
    }
   ],
   "source": [
    "print(  result  )"
   ]
  },
  {
   "cell_type": "code",
   "execution_count": 46,
   "id": "cc379d27",
   "metadata": {},
   "outputs": [
    {
     "name": "stdout",
     "output_type": "stream",
     "text": [
      "['ASGD', 'Adadelta', 'Adagrad', 'Adam', 'AdamW', 'Adamax', 'LBFGS', 'NAdam', 'Optimizer', 'RAdam', 'RMSprop', 'Rprop', 'SGD', 'SparseAdam', '__builtins__', '__cached__', '__doc__', '__file__', '__loader__', '__name__', '__package__', '__path__', '__spec__', '_functional', '_multi_tensor', 'lr_scheduler', 'swa_utils']\n"
     ]
    }
   ],
   "source": [
    "print(   dir(optim)   )\n"
   ]
  },
  {
   "cell_type": "code",
   "execution_count": 51,
   "id": "6099d036",
   "metadata": {},
   "outputs": [
    {
     "name": "stdout",
     "output_type": "stream",
     "text": [
      "tensor(-82896.9844, grad_fn=<AddBackward0>)\n"
     ]
    }
   ],
   "source": [
    "my_Temp = model(32, *result)\n",
    "\n",
    "print(my_Temp)"
   ]
  },
  {
   "cell_type": "code",
   "execution_count": null,
   "id": "214c2e1a",
   "metadata": {},
   "outputs": [],
   "source": []
  }
 ],
 "metadata": {
  "kernelspec": {
   "display_name": "ITS5200",
   "language": "python",
   "name": "its5200"
  },
  "language_info": {
   "codemirror_mode": {
    "name": "ipython",
    "version": 3
   },
   "file_extension": ".py",
   "mimetype": "text/x-python",
   "name": "python",
   "nbconvert_exporter": "python",
   "pygments_lexer": "ipython3",
   "version": "3.8.13"
  }
 },
 "nbformat": 4,
 "nbformat_minor": 5
}
