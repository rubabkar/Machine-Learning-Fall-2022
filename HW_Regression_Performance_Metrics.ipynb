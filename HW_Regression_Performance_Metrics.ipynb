{
 "cells": [
  {
   "cell_type": "markdown",
   "id": "2baa82fe",
   "metadata": {},
   "source": [
    "# This Code depicts how to evaluate the Performance Metrics - Rubab Karim"
   ]
  },
  {
   "cell_type": "code",
   "execution_count": 1,
   "id": "626277c1",
   "metadata": {},
   "outputs": [],
   "source": [
    "import sklearn\n",
    "import numpy as np\n",
    "\n",
    "from sklearn import datasets\n",
    "from sklearn.model_selection import train_test_split\n",
    "\n",
    "from sklearn.metrics import confusion_matrix\n",
    "from sklearn.metrics import precision_score\n",
    "from sklearn.metrics import recall_score, accuracy_score, f1_score\n",
    "\n",
    "import pandas as pd\n",
    "from collections import Counter\n",
    "\n",
    "from sklearn.preprocessing import LabelEncoder"
   ]
  },
  {
   "cell_type": "code",
   "execution_count": 2,
   "id": "77cfd5c6",
   "metadata": {},
   "outputs": [],
   "source": [
    "k = 5\n",
    "\n",
    "def euclidean_distance(v1, v2):\n",
    "    return np.sqrt(np.sum(     (v1 - v2) ** 2    ))\n",
    "\n",
    "def predict(test_x):\n",
    "    ## calculate distances between test_x and all data samples in X\n",
    "    distances = [ euclidean_distance(test_x, x )  for x in X_train   ]\n",
    "    ## distances is a vector of 30 distances \n",
    "    \n",
    "    ## distances [23, 2,  145, 23  , 5,   17 , 890, ....]  =>>  []\n",
    "               \n",
    "    \n",
    "    ## sort by distance and return the k closest neighbors\n",
    "    ## argsort returns the indices of the k nearest neighbors\n",
    "    k_neighbor_indeces =   np.argsort(   distances   )[:k]\n",
    "    \n",
    "    ## extract labels from y_train\n",
    "    labels = [    y_train[i]  for i in k_neighbor_indeces   ]\n",
    "    ## imagine labels = [1, 1, 1, 0, 1]\n",
    "    \n",
    "\n",
    "    ##select the most common label in labels\n",
    "    most_common_label = Counter(labels).most_common(1)\n",
    "\n",
    "    return most_common_label"
   ]
  },
  {
   "cell_type": "code",
   "execution_count": 3,
   "id": "2f292768",
   "metadata": {},
   "outputs": [],
   "source": [
    "df = pd.read_csv('data/winequality-red.csv', header=None)\n",
    "\n",
    "X = df.loc[1:, :3].values\n",
    "X = X.astype(float)\n",
    "\n",
    "y = df.loc[1:,  4 ].values\n",
    "\n",
    "le = LabelEncoder()\n",
    "y = le.fit_transform(   y   )  "
   ]
  },
  {
   "cell_type": "code",
   "execution_count": 4,
   "id": "f8aa134c",
   "metadata": {},
   "outputs": [
    {
     "name": "stdout",
     "output_type": "stream",
     "text": [
      "[ 77  45  70  41  40  46  52  56  21  29  70  41  27  40  45  30  52  55\n",
      "  43  53  49  43  11  27  45  33  29  52  51  67  41  49  39  17  37  35\n",
      "  34  29  34  22  26  47  22  46 100  37  38  22  10  41  80 148  63   7\n",
      "  42  58  37  46  34  44  47  48  51  37  47  46  38  57  15  43  29  50\n",
      "  43  41  34  40   7  51   7  29  77  37  26  45  50  29  47  34  38  23\n",
      "  52  31  12  38  37  37  36  21 106  39  29  46  79  23  27  37  47  65\n",
      "  14 131  23  55  24  85  27  37  18  65  45  31  30  59  49  40  32  39\n",
      "  23  44  56  40  43  86  40  48  41  43  34  43  44  49  38  41  19  39\n",
      " 100  52  26  80  60  44  40  25  56  45  43  34  46  22  41  47  18  29\n",
      "  56  74  32  39  28  32 108  56  41  41  25  42  13  45  42  46  74   3\n",
      "  21  20  58  45  13  83  23  35   4  42  78  52  55  45  53  20  37  36\n",
      "  48  37  30  99  25  49  37  34  39  23  19  56   9 109  40  33  10  56\n",
      "  34  34  59  54  60  23  21  48  24  37  36  24  36  44  68  47  61  49\n",
      "  58  37  39  50 124  29  33  47  28  47 145  46  32  47  41  43  55  38\n",
      "  53  40  49  51  26  27  85  11  54  30  46  92  28  26 116  66  58  85\n",
      "  39  48  42  39  39  47  46  31  33  29  31 115  31  41  78  22  33  41\n",
      "  59   4  30  39  38  44  62  31  44  67  28  32  69  42  36  47  60  39\n",
      "  58  36  19  38  48  51  49  34  17  86  56  81  63  41  49  29  81  51\n",
      "  36  62  40  45  58  67  20  38  44  60  45  16  34  45  33  63  35  55\n",
      "  12  39  48  74  34  62  44  30 105  31  54 121  54  55  67  55  42  44\n",
      "  59  37  15  47 149  43  39  38  47 107  43  41  44  19  41  22  26   5\n",
      "  50  34  41  31  51  51  28  58   7  41  37  35  33  40  53  49  55  24\n",
      "  70  37  42  50  46  61  54  39  41  83  60  74  73 144  41  70  34  55\n",
      "  16  72  73  35  32  19  21  49  37  64  43  38  37  43  23  41  15  46\n",
      "  49  54  23  65  33  60  39  12  68  42   3  25  45  67  55  61  47 147\n",
      "  84  86  42  47  53  28  37 127  24  62 143  20 141  29  48  34  44  39\n",
      "  53  28  42  31  16  27  30  25  33  40  70  66]\n",
      "[27 34 47 ... 40 17 26]\n",
      "[[ 8.6   0.22  0.36  1.9 ]\n",
      " [12.5   0.46  0.63  2.  ]\n",
      " [ 7.2   0.54  0.27  2.6 ]\n",
      " ...\n",
      " [ 7.2   0.62  0.06  2.7 ]\n",
      " [ 7.9   0.2   0.35  1.7 ]\n",
      " [ 5.8   0.29  0.26  1.7 ]]\n",
      "[[ 7.7   0.56  0.08  2.5 ]\n",
      " [ 7.8   0.5   0.17  1.6 ]\n",
      " [10.7   0.67  0.22  2.7 ]\n",
      " ...\n",
      " [ 6.7   0.46  0.24  1.7 ]\n",
      " [10.5   0.51  0.64  2.4 ]\n",
      " [ 9.9   0.5   0.24  2.3 ]]\n"
     ]
    }
   ],
   "source": [
    "X_train, X_test, y_train, y_test = train_test_split(X, y, test_size = 0.3, random_state=42 )\n",
    "\n",
    "print(y_test)\n",
    "print(y_train)\n",
    "print(  X_train   )\n",
    "print(  X_test    )"
   ]
  },
  {
   "cell_type": "code",
   "execution_count": 5,
   "id": "d0891f53",
   "metadata": {},
   "outputs": [],
   "source": [
    "def accuracy(y_pred, y_test):\n",
    "    accuracy_value = np.sum(y_pred == y_test) / len(y_test)\n",
    "    return accuracy_value"
   ]
  },
  {
   "cell_type": "code",
   "execution_count": 6,
   "id": "19ecc3d1",
   "metadata": {},
   "outputs": [],
   "source": [
    "def print_stats_percentage_train_test(algorithm_name, y_test, y_pred):    \n",
    "     print(\"------------------------------------------------------\")\n",
    "     print(\"------------------------------------------------------\")\n",
    "    \n",
    "     print(\"algorithm is: \", algorithm_name)\n",
    "        \n",
    "     print('Accuracy: %.2f' % accuracy_score(y_test,   y_pred) )\n",
    "     \n",
    "     confmat = confusion_matrix(y_true=y_test, y_pred=y_pred)\n",
    "     print(\"confusion matrix\")\n",
    "     print(confmat)\n",
    "     print('Precision: %.3f' % precision_score(y_true=y_test, y_pred=y_pred, average='weighted'))\n",
    "     print('Recall: %.3f' % recall_score(y_true=y_test, y_pred=y_pred, average='weighted'))\n",
    "     print('F1-measure: %.3f' % f1_score(y_true=y_test, y_pred=y_pred, average='weighted'))"
   ]
  },
  {
   "cell_type": "code",
   "execution_count": 7,
   "id": "3246cad4",
   "metadata": {},
   "outputs": [
    {
     "name": "stdout",
     "output_type": "stream",
     "text": [
      "[31, 69, 49, 18, 40, 25, 25, 77, 44, 50, 31, 43, 39, 41, 49, 30, 41, 31, 42, 35, 31, 43, 13, 42, 42, 33, 48, 48, 34, 34, 41, 35, 39, 43, 60, 23, 58, 13, 38, 37, 27, 18, 31, 48, 29, 39, 29, 52, 75, 33, 43, 73, 49, 17, 39, 40, 37, 87, 48, 44, 40, 31, 52, 31, 92, 15, 38, 41, 51, 66, 102, 33, 56, 32, 46, 53, 52, 51, 38, 36, 77, 29, 26, 45, 47, 62, 47, 34, 21, 28, 45, 85, 52, 38, 26, 30, 36, 27, 39, 40, 25, 42, 52, 87, 63, 37, 30, 46, 85, 41, 5, 54, 37, 81, 23, 84, 30, 40, 34, 39, 0, 56, 89, 42, 63, 42, 28, 46, 56, 13, 56, 43, 40, 86, 33, 44, 42, 27, 55, 40, 38, 26, 25, 32, 29, 35, 20, 87, 59, 54, 40, 23, 60, 45, 56, 58, 39, 59, 34, 48, 40, 17, 34, 34, 28, 39, 47, 39, 25, 57, 40, 60, 25, 53, 61, 35, 66, 34, 74, 4, 21, 17, 40, 73, 43, 48, 43, 51, 56, 53, 40, 48, 26, 36, 38, 20, 29, 36, 33, 37, 44, 59, 43, 33, 43, 13, 36, 41, 17, 91, 8, 57, 40, 46, 96, 63, 119, 33, 60, 60, 60, 23, 27, 55, 30, 114, 44, 42, 102, 35, 43, 31, 39, 34, 58, 37, 39, 47, 124, 40, 39, 81, 41, 47, 55, 46, 40, 81, 31, 43, 52, 25, 34, 45, 65, 32, 29, 37, 50, 13, 34, 37, 34, 64, 43, 44, 35, 30, 58, 85, 45, 48, 42, 38, 26, 35, 61, 41, 43, 29, 27, 55, 29, 40, 28, 25, 61, 26, 52, 8, 119, 43, 38, 42, 37, 66, 30, 29, 41, 20, 47, 34, 43, 43, 54, 36, 63, 56, 41, 30, 47, 22, 61, 84, 43, 86, 37, 81, 58, 41, 49, 43, 92, 41, 85, 41, 44, 43, 40, 34, 37, 30, 39, 60, 45, 28, 37, 35, 37, 36, 89, 77, 52, 28, 48, 34, 46, 41, 41, 42, 45, 26, 52, 119, 68, 55, 28, 53, 87, 44, 63, 41, 39, 47, 152, 44, 39, 34, 48, 57, 39, 60, 34, 27, 37, 37, 31, 44, 50, 34, 51, 25, 57, 27, 13, 54, 43, 42, 102, 39, 36, 30, 52, 61, 11, 43, 81, 60, 28, 26, 36, 51, 29, 42, 60, 39, 37, 38, 73, 147, 44, 46, 17, 30, 44, 56, 30, 56, 32, 47, 28, 63, 61, 46, 28, 34, 18, 25, 87, 60, 39, 46, 43, 41, 23, 46, 43, 60, 43, 43, 54, 30, 37, 41, 27, 51, 55, 61, 85, 150, 34, 37, 55, 42, 30, 82, 37, 42, 70, 36, 45, 46, 31, 43, 45, 33, 51, 39, 27, 34, 44, 37, 28, 27, 54, 25, 33, 40, 31, 53]\n",
      "true labels below\n",
      "[ 77  45  70  41  40  46  52  56  21  29  70  41  27  40  45  30  52  55\n",
      "  43  53  49  43  11  27  45  33  29  52  51  67  41  49  39  17  37  35\n",
      "  34  29  34  22  26  47  22  46 100  37  38  22  10  41  80 148  63   7\n",
      "  42  58  37  46  34  44  47  48  51  37  47  46  38  57  15  43  29  50\n",
      "  43  41  34  40   7  51   7  29  77  37  26  45  50  29  47  34  38  23\n",
      "  52  31  12  38  37  37  36  21 106  39  29  46  79  23  27  37  47  65\n",
      "  14 131  23  55  24  85  27  37  18  65  45  31  30  59  49  40  32  39\n",
      "  23  44  56  40  43  86  40  48  41  43  34  43  44  49  38  41  19  39\n",
      " 100  52  26  80  60  44  40  25  56  45  43  34  46  22  41  47  18  29\n",
      "  56  74  32  39  28  32 108  56  41  41  25  42  13  45  42  46  74   3\n",
      "  21  20  58  45  13  83  23  35   4  42  78  52  55  45  53  20  37  36\n",
      "  48  37  30  99  25  49  37  34  39  23  19  56   9 109  40  33  10  56\n",
      "  34  34  59  54  60  23  21  48  24  37  36  24  36  44  68  47  61  49\n",
      "  58  37  39  50 124  29  33  47  28  47 145  46  32  47  41  43  55  38\n",
      "  53  40  49  51  26  27  85  11  54  30  46  92  28  26 116  66  58  85\n",
      "  39  48  42  39  39  47  46  31  33  29  31 115  31  41  78  22  33  41\n",
      "  59   4  30  39  38  44  62  31  44  67  28  32  69  42  36  47  60  39\n",
      "  58  36  19  38  48  51  49  34  17  86  56  81  63  41  49  29  81  51\n",
      "  36  62  40  45  58  67  20  38  44  60  45  16  34  45  33  63  35  55\n",
      "  12  39  48  74  34  62  44  30 105  31  54 121  54  55  67  55  42  44\n",
      "  59  37  15  47 149  43  39  38  47 107  43  41  44  19  41  22  26   5\n",
      "  50  34  41  31  51  51  28  58   7  41  37  35  33  40  53  49  55  24\n",
      "  70  37  42  50  46  61  54  39  41  83  60  74  73 144  41  70  34  55\n",
      "  16  72  73  35  32  19  21  49  37  64  43  38  37  43  23  41  15  46\n",
      "  49  54  23  65  33  60  39  12  68  42   3  25  45  67  55  61  47 147\n",
      "  84  86  42  47  53  28  37 127  24  62 143  20 141  29  48  34  44  39\n",
      "  53  28  42  31  16  27  30  25  33  40  70  66]\n"
     ]
    }
   ],
   "source": [
    "list_of_pred_labels = []\n",
    "\n",
    "for test_x in X_test:\n",
    "    temp_pred = predict(test_x)   \n",
    "    list_of_pred_labels.append(   temp_pred[0][0]  )\n",
    "    \n",
    "print(list_of_pred_labels)\n",
    "print(\"true labels below\")\n",
    "print(y_test)"
   ]
  },
  {
   "cell_type": "code",
   "execution_count": 8,
   "id": "1acae43d",
   "metadata": {},
   "outputs": [
    {
     "name": "stdout",
     "output_type": "stream",
     "text": [
      "[ 31  69  49  18  40  25  25  77  44  50  31  43  39  41  49  30  41  31\n",
      "  42  35  31  43  13  42  42  33  48  48  34  34  41  35  39  43  60  23\n",
      "  58  13  38  37  27  18  31  48  29  39  29  52  75  33  43  73  49  17\n",
      "  39  40  37  87  48  44  40  31  52  31  92  15  38  41  51  66 102  33\n",
      "  56  32  46  53  52  51  38  36  77  29  26  45  47  62  47  34  21  28\n",
      "  45  85  52  38  26  30  36  27  39  40  25  42  52  87  63  37  30  46\n",
      "  85  41   5  54  37  81  23  84  30  40  34  39   0  56  89  42  63  42\n",
      "  28  46  56  13  56  43  40  86  33  44  42  27  55  40  38  26  25  32\n",
      "  29  35  20  87  59  54  40  23  60  45  56  58  39  59  34  48  40  17\n",
      "  34  34  28  39  47  39  25  57  40  60  25  53  61  35  66  34  74   4\n",
      "  21  17  40  73  43  48  43  51  56  53  40  48  26  36  38  20  29  36\n",
      "  33  37  44  59  43  33  43  13  36  41  17  91   8  57  40  46  96  63\n",
      " 119  33  60  60  60  23  27  55  30 114  44  42 102  35  43  31  39  34\n",
      "  58  37  39  47 124  40  39  81  41  47  55  46  40  81  31  43  52  25\n",
      "  34  45  65  32  29  37  50  13  34  37  34  64  43  44  35  30  58  85\n",
      "  45  48  42  38  26  35  61  41  43  29  27  55  29  40  28  25  61  26\n",
      "  52   8 119  43  38  42  37  66  30  29  41  20  47  34  43  43  54  36\n",
      "  63  56  41  30  47  22  61  84  43  86  37  81  58  41  49  43  92  41\n",
      "  85  41  44  43  40  34  37  30  39  60  45  28  37  35  37  36  89  77\n",
      "  52  28  48  34  46  41  41  42  45  26  52 119  68  55  28  53  87  44\n",
      "  63  41  39  47 152  44  39  34  48  57  39  60  34  27  37  37  31  44\n",
      "  50  34  51  25  57  27  13  54  43  42 102  39  36  30  52  61  11  43\n",
      "  81  60  28  26  36  51  29  42  60  39  37  38  73 147  44  46  17  30\n",
      "  44  56  30  56  32  47  28  63  61  46  28  34  18  25  87  60  39  46\n",
      "  43  41  23  46  43  60  43  43  54  30  37  41  27  51  55  61  85 150\n",
      "  34  37  55  42  30  82  37  42  70  36  45  46  31  43  45  33  51  39\n",
      "  27  34  44  37  28  27  54  25  33  40  31  53]\n",
      "true labels below\n",
      "[ 77  45  70  41  40  46  52  56  21  29  70  41  27  40  45  30  52  55\n",
      "  43  53  49  43  11  27  45  33  29  52  51  67  41  49  39  17  37  35\n",
      "  34  29  34  22  26  47  22  46 100  37  38  22  10  41  80 148  63   7\n",
      "  42  58  37  46  34  44  47  48  51  37  47  46  38  57  15  43  29  50\n",
      "  43  41  34  40   7  51   7  29  77  37  26  45  50  29  47  34  38  23\n",
      "  52  31  12  38  37  37  36  21 106  39  29  46  79  23  27  37  47  65\n",
      "  14 131  23  55  24  85  27  37  18  65  45  31  30  59  49  40  32  39\n",
      "  23  44  56  40  43  86  40  48  41  43  34  43  44  49  38  41  19  39\n",
      " 100  52  26  80  60  44  40  25  56  45  43  34  46  22  41  47  18  29\n",
      "  56  74  32  39  28  32 108  56  41  41  25  42  13  45  42  46  74   3\n",
      "  21  20  58  45  13  83  23  35   4  42  78  52  55  45  53  20  37  36\n",
      "  48  37  30  99  25  49  37  34  39  23  19  56   9 109  40  33  10  56\n",
      "  34  34  59  54  60  23  21  48  24  37  36  24  36  44  68  47  61  49\n",
      "  58  37  39  50 124  29  33  47  28  47 145  46  32  47  41  43  55  38\n",
      "  53  40  49  51  26  27  85  11  54  30  46  92  28  26 116  66  58  85\n",
      "  39  48  42  39  39  47  46  31  33  29  31 115  31  41  78  22  33  41\n",
      "  59   4  30  39  38  44  62  31  44  67  28  32  69  42  36  47  60  39\n",
      "  58  36  19  38  48  51  49  34  17  86  56  81  63  41  49  29  81  51\n",
      "  36  62  40  45  58  67  20  38  44  60  45  16  34  45  33  63  35  55\n",
      "  12  39  48  74  34  62  44  30 105  31  54 121  54  55  67  55  42  44\n",
      "  59  37  15  47 149  43  39  38  47 107  43  41  44  19  41  22  26   5\n",
      "  50  34  41  31  51  51  28  58   7  41  37  35  33  40  53  49  55  24\n",
      "  70  37  42  50  46  61  54  39  41  83  60  74  73 144  41  70  34  55\n",
      "  16  72  73  35  32  19  21  49  37  64  43  38  37  43  23  41  15  46\n",
      "  49  54  23  65  33  60  39  12  68  42   3  25  45  67  55  61  47 147\n",
      "  84  86  42  47  53  28  37 127  24  62 143  20 141  29  48  34  44  39\n",
      "  53  28  42  31  16  27  30  25  33  40  70  66]\n"
     ]
    }
   ],
   "source": [
    "y_pred = np.array(    list_of_pred_labels    )\n",
    "\n",
    "print(y_pred)\n",
    "print(\"true labels below\")\n",
    "print(y_test)"
   ]
  },
  {
   "cell_type": "markdown",
   "id": "5173a1f5",
   "metadata": {},
   "source": [
    "### Here, we define the Regression Models that are going to be used in this analysis.\n",
    "a) Linear Regression Model"
   ]
  },
  {
   "cell_type": "code",
   "execution_count": 9,
   "id": "3100ceed",
   "metadata": {},
   "outputs": [],
   "source": [
    "def model_fn_linear():\n",
    "    return nn.Linear(1, 1)"
   ]
  },
  {
   "cell_type": "markdown",
   "id": "eb933e6e",
   "metadata": {},
   "source": [
    "### b) Multi-Layer Perceptron"
   ]
  },
  {
   "cell_type": "code",
   "execution_count": 10,
   "id": "8b7067cf",
   "metadata": {},
   "outputs": [],
   "source": [
    "def model_fn_nn_1hidden():\n",
    "    \n",
    "    seq_model = nn.Sequential(\n",
    "        nn.Linear(1599, 599),\n",
    "        nn.ReLU(),\n",
    "        \n",
    "        nn.Linear(599, 1),\n",
    "    \n",
    "    )\n",
    "    \n",
    "   # optimizer = optim.SGD(\n",
    "   #    model_fn_nn_1hidden.parameters(),\n",
    "   #    lr=1e-3  )\n",
    "    \n",
    "    return seq_model"
   ]
  },
  {
   "cell_type": "markdown",
   "id": "be07e0b3",
   "metadata": {},
   "source": [
    "### c) Deep Neural Network with 2 hidden layers"
   ]
  },
  {
   "cell_type": "code",
   "execution_count": 11,
   "id": "8b121918",
   "metadata": {},
   "outputs": [],
   "source": [
    "def model_deep_learning_2hidden():\n",
    "    seq_model = nn.Sequential(\n",
    "        nn.Linear(1599, 1099),\n",
    "        nn.ReLU(),\n",
    "        \n",
    "        nn.Linear(1099, 599),\n",
    "        nn.Tanh(),\n",
    "        \n",
    "        nn.Linear(599, 1)\n",
    "    )\n",
    "    \n",
    "    return seq_model"
   ]
  },
  {
   "cell_type": "markdown",
   "id": "81b1acbf",
   "metadata": {},
   "source": [
    "### d) Deep Neural Network with 4 hidden layers"
   ]
  },
  {
   "cell_type": "code",
   "execution_count": 12,
   "id": "85afe473",
   "metadata": {},
   "outputs": [],
   "source": [
    "def model_deep_learning_4hidden():\n",
    "    seq_model = nn.Sequential(\n",
    "        nn.Linear(1599, 1099),\n",
    "        nn.ReLU(),\n",
    "        \n",
    "        nn.Linear(1099, 599),\n",
    "        nn.Tanh(),\n",
    "        \n",
    "        nn.Linear(599, 199),\n",
    "        nn.Tanh(),\n",
    "        \n",
    "        nn.Linear(199, 99),\n",
    "        nn.Tanh(),\n",
    "        \n",
    "        nn.Linear(99, 1)\n",
    "    )\n",
    "    \n",
    "    return seq_model"
   ]
  },
  {
   "cell_type": "code",
   "execution_count": 13,
   "id": "9a720831",
   "metadata": {},
   "outputs": [
    {
     "name": "stdout",
     "output_type": "stream",
     "text": [
      "------------------------------------------------------\n",
      "------------------------------------------------------\n",
      "algorithm is:  model_deep_learning_4hidden\n",
      "Accuracy: 0.15\n",
      "confusion matrix\n",
      "[[0 0 0 ... 0 0 0]\n",
      " [0 0 1 ... 0 0 0]\n",
      " [0 0 0 ... 0 0 0]\n",
      " ...\n",
      " [0 0 0 ... 0 0 1]\n",
      " [0 0 0 ... 0 0 0]\n",
      " [0 0 0 ... 0 0 0]]\n",
      "Precision: 0.162\n",
      "Recall: 0.150\n",
      "F1-measure: 0.147\n",
      "None\n"
     ]
    },
    {
     "name": "stderr",
     "output_type": "stream",
     "text": [
      "/opt/miniconda3/envs/ITS5200/lib/python3.8/site-packages/sklearn/metrics/_classification.py:1334: UndefinedMetricWarning: Precision is ill-defined and being set to 0.0 in labels with no predicted samples. Use `zero_division` parameter to control this behavior.\n",
      "  _warn_prf(average, modifier, msg_start, len(result))\n",
      "/opt/miniconda3/envs/ITS5200/lib/python3.8/site-packages/sklearn/metrics/_classification.py:1334: UndefinedMetricWarning: Recall is ill-defined and being set to 0.0 in labels with no true samples. Use `zero_division` parameter to control this behavior.\n",
      "  _warn_prf(average, modifier, msg_start, len(result))\n"
     ]
    }
   ],
   "source": [
    "res = print_stats_percentage_train_test('model_deep_learning_4hidden', y_test, y_pred)      #knn\n",
    "\n",
    "print(    res   )"
   ]
  },
  {
   "cell_type": "code",
   "execution_count": null,
   "id": "cefe7ead",
   "metadata": {},
   "outputs": [],
   "source": []
  },
  {
   "cell_type": "code",
   "execution_count": null,
   "id": "082d38e2",
   "metadata": {},
   "outputs": [],
   "source": []
  }
 ],
 "metadata": {
  "kernelspec": {
   "display_name": "ITS5200",
   "language": "python",
   "name": "its5200"
  },
  "language_info": {
   "codemirror_mode": {
    "name": "ipython",
    "version": 3
   },
   "file_extension": ".py",
   "mimetype": "text/x-python",
   "name": "python",
   "nbconvert_exporter": "python",
   "pygments_lexer": "ipython3",
   "version": "3.8.13"
  }
 },
 "nbformat": 4,
 "nbformat_minor": 5
}
